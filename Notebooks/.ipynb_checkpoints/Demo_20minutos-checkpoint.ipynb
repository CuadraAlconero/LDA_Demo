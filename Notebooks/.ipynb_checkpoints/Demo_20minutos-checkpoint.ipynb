{
 "cells": [
  {
   "cell_type": "code",
   "execution_count": 18,
   "metadata": {},
   "outputs": [
    {
     "data": {
      "text/html": [
       "<script type=\"text/javascript\">window.PlotlyConfig = {MathJaxConfig: 'local'};</script><script type=\"text/javascript\">if (window.MathJax) {MathJax.Hub.Config({SVG: {font: \"STIX-Web\"}});}</script><script>requirejs.config({paths: { 'plotly': ['https://cdn.plot.ly/plotly-latest.min']},});if(!window._Plotly) {require(['plotly'],function(plotly) {window._Plotly=plotly;});}</script>"
      ],
      "text/vnd.plotly.v1+html": [
       "<script type=\"text/javascript\">window.PlotlyConfig = {MathJaxConfig: 'local'};</script><script type=\"text/javascript\">if (window.MathJax) {MathJax.Hub.Config({SVG: {font: \"STIX-Web\"}});}</script><script>requirejs.config({paths: { 'plotly': ['https://cdn.plot.ly/plotly-latest.min']},});if(!window._Plotly) {require(['plotly'],function(plotly) {window._Plotly=plotly;});}</script>"
      ]
     },
     "metadata": {},
     "output_type": "display_data"
    }
   ],
   "source": [
    "import pickle\n",
    "import pandas as pd\n",
    "import numpy as np\n",
    "from collections import defaultdict\n",
    "\n",
    "#Plotly\n",
    "from plotly import graph_objs as go\n",
    "from plotly.offline import iplot, init_notebook_mode\n",
    "init_notebook_mode(connected = True)\n",
    "\n",
    "\n",
    "\n",
    "#Topic Modeling\n",
    "from gensim.models import LdaModel\n",
    "from gensim.models import CoherenceModel\n",
    "from gensim.corpora import Dictionary\n",
    "from gensim.models.wrappers.ldamallet import malletmodel2ldamodel"
   ]
  },
  {
   "cell_type": "markdown",
   "metadata": {},
   "source": [
    "# Estudio de la energía de coherencia"
   ]
  },
  {
   "cell_type": "code",
   "execution_count": 19,
   "metadata": {},
   "outputs": [],
   "source": [
    "energy_mallet_dict = pd.read_pickle('../Modelos/Coherence_Energy/energy_mallet.pickle')\n",
    "energy_lda_dict = pd.read_pickle('../Modelos/Coherence_Energy/energy_lda.pickle')"
   ]
  },
  {
   "cell_type": "code",
   "execution_count": 24,
   "metadata": {},
   "outputs": [
    {
     "data": {
      "text/plain": [
       "defaultdict(None,\n",
       "            {'Todos': <pandas.core.indexing._iLocIndexer at 0x7f73ce3813b8>})"
      ]
     },
     "execution_count": 24,
     "metadata": {},
     "output_type": "execute_result"
    }
   ],
   "source": [
    "energy_lda"
   ]
  },
  {
   "cell_type": "code",
   "execution_count": 29,
   "metadata": {},
   "outputs": [
    {
     "data": {
      "text/html": [
       "<div>\n",
       "<style scoped>\n",
       "    .dataframe tbody tr th:only-of-type {\n",
       "        vertical-align: middle;\n",
       "    }\n",
       "\n",
       "    .dataframe tbody tr th {\n",
       "        vertical-align: top;\n",
       "    }\n",
       "\n",
       "    .dataframe thead th {\n",
       "        text-align: right;\n",
       "    }\n",
       "</style>\n",
       "<table border=\"1\" class=\"dataframe\">\n",
       "  <thead>\n",
       "    <tr style=\"text-align: right;\">\n",
       "      <th></th>\n",
       "      <th></th>\n",
       "      <th>energia</th>\n",
       "    </tr>\n",
       "  </thead>\n",
       "  <tbody>\n",
       "    <tr>\n",
       "      <th rowspan=\"24\" valign=\"top\">Todos</th>\n",
       "      <th>Todos_topics7_iters200.model</th>\n",
       "      <td>176.294319</td>\n",
       "    </tr>\n",
       "    <tr>\n",
       "      <th>Todos_topics7_iters500.model</th>\n",
       "      <td>174.183141</td>\n",
       "    </tr>\n",
       "    <tr>\n",
       "      <th>Todos_topics7_iters350.model</th>\n",
       "      <td>174.183141</td>\n",
       "    </tr>\n",
       "    <tr>\n",
       "      <th>Todos_topics9_iters500.model</th>\n",
       "      <td>172.268531</td>\n",
       "    </tr>\n",
       "    <tr>\n",
       "      <th>Todos_topics9_iters350.model</th>\n",
       "      <td>172.268531</td>\n",
       "    </tr>\n",
       "    <tr>\n",
       "      <th>Todos_topics9_iters200.model</th>\n",
       "      <td>171.874582</td>\n",
       "    </tr>\n",
       "    <tr>\n",
       "      <th>Todos_topics5_iters200.model</th>\n",
       "      <td>168.609293</td>\n",
       "    </tr>\n",
       "    <tr>\n",
       "      <th>Todos_topics5_iters500.model</th>\n",
       "      <td>168.499138</td>\n",
       "    </tr>\n",
       "    <tr>\n",
       "      <th>Todos_topics5_iters350.model</th>\n",
       "      <td>168.427163</td>\n",
       "    </tr>\n",
       "    <tr>\n",
       "      <th>Todos_topics6_iters200.model</th>\n",
       "      <td>164.158944</td>\n",
       "    </tr>\n",
       "    <tr>\n",
       "      <th>Todos_topics6_iters350.model</th>\n",
       "      <td>161.513144</td>\n",
       "    </tr>\n",
       "    <tr>\n",
       "      <th>Todos_topics6_iters500.model</th>\n",
       "      <td>161.421337</td>\n",
       "    </tr>\n",
       "    <tr>\n",
       "      <th>Todos_topics4_iters200.model</th>\n",
       "      <td>153.535972</td>\n",
       "    </tr>\n",
       "    <tr>\n",
       "      <th>Todos_topics3_iters200.model</th>\n",
       "      <td>151.822162</td>\n",
       "    </tr>\n",
       "    <tr>\n",
       "      <th>Todos_topics4_iters350.model</th>\n",
       "      <td>149.971832</td>\n",
       "    </tr>\n",
       "    <tr>\n",
       "      <th>Todos_topics4_iters500.model</th>\n",
       "      <td>149.944641</td>\n",
       "    </tr>\n",
       "    <tr>\n",
       "      <th>Todos_topics8_iters200.model</th>\n",
       "      <td>147.310388</td>\n",
       "    </tr>\n",
       "    <tr>\n",
       "      <th>Todos_topics8_iters350.model</th>\n",
       "      <td>146.317083</td>\n",
       "    </tr>\n",
       "    <tr>\n",
       "      <th>Todos_topics8_iters500.model</th>\n",
       "      <td>145.659277</td>\n",
       "    </tr>\n",
       "    <tr>\n",
       "      <th>Todos_topics3_iters500.model</th>\n",
       "      <td>140.708302</td>\n",
       "    </tr>\n",
       "    <tr>\n",
       "      <th>Todos_topics3_iters350.model</th>\n",
       "      <td>140.708302</td>\n",
       "    </tr>\n",
       "    <tr>\n",
       "      <th>Todos_topics2_iters200.model</th>\n",
       "      <td>136.708761</td>\n",
       "    </tr>\n",
       "    <tr>\n",
       "      <th>Todos_topics2_iters350.model</th>\n",
       "      <td>129.619089</td>\n",
       "    </tr>\n",
       "    <tr>\n",
       "      <th>Todos_topics2_iters500.model</th>\n",
       "      <td>129.564709</td>\n",
       "    </tr>\n",
       "  </tbody>\n",
       "</table>\n",
       "</div>"
      ],
      "text/plain": [
       "                                       energia\n",
       "Todos Todos_topics7_iters200.model  176.294319\n",
       "      Todos_topics7_iters500.model  174.183141\n",
       "      Todos_topics7_iters350.model  174.183141\n",
       "      Todos_topics9_iters500.model  172.268531\n",
       "      Todos_topics9_iters350.model  172.268531\n",
       "      Todos_topics9_iters200.model  171.874582\n",
       "      Todos_topics5_iters200.model  168.609293\n",
       "      Todos_topics5_iters500.model  168.499138\n",
       "      Todos_topics5_iters350.model  168.427163\n",
       "      Todos_topics6_iters200.model  164.158944\n",
       "      Todos_topics6_iters350.model  161.513144\n",
       "      Todos_topics6_iters500.model  161.421337\n",
       "      Todos_topics4_iters200.model  153.535972\n",
       "      Todos_topics3_iters200.model  151.822162\n",
       "      Todos_topics4_iters350.model  149.971832\n",
       "      Todos_topics4_iters500.model  149.944641\n",
       "      Todos_topics8_iters200.model  147.310388\n",
       "      Todos_topics8_iters350.model  146.317083\n",
       "      Todos_topics8_iters500.model  145.659277\n",
       "      Todos_topics3_iters500.model  140.708302\n",
       "      Todos_topics3_iters350.model  140.708302\n",
       "      Todos_topics2_iters200.model  136.708761\n",
       "      Todos_topics2_iters350.model  129.619089\n",
       "      Todos_topics2_iters500.model  129.564709"
      ]
     },
     "execution_count": 29,
     "metadata": {},
     "output_type": "execute_result"
    }
   ],
   "source": [
    "# Estudio de la energía Gensim\n",
    "iterable = energy_lda_dict.items()\n",
    "energy_lda=defaultdict()\n",
    "for stock, energy_dict in iterable:\n",
    "    df = pd.DataFrame.from_dict(energy_dict, orient='index', columns=['energia'])\n",
    "    df = df.sort_values('energia', axis=0, ascending=False)\n",
    "    energy_lda[stock] = df\n",
    "energy_lda_df = pd.concat(energy_lda)\n",
    "energy_lda_df"
   ]
  },
  {
   "cell_type": "code",
   "execution_count": 30,
   "metadata": {},
   "outputs": [
    {
     "data": {
      "text/html": [
       "<div>\n",
       "<style scoped>\n",
       "    .dataframe tbody tr th:only-of-type {\n",
       "        vertical-align: middle;\n",
       "    }\n",
       "\n",
       "    .dataframe tbody tr th {\n",
       "        vertical-align: top;\n",
       "    }\n",
       "\n",
       "    .dataframe thead th {\n",
       "        text-align: right;\n",
       "    }\n",
       "</style>\n",
       "<table border=\"1\" class=\"dataframe\">\n",
       "  <thead>\n",
       "    <tr style=\"text-align: right;\">\n",
       "      <th></th>\n",
       "      <th></th>\n",
       "      <th>energia</th>\n",
       "    </tr>\n",
       "  </thead>\n",
       "  <tbody>\n",
       "    <tr>\n",
       "      <th rowspan=\"24\" valign=\"top\">Todos</th>\n",
       "      <th>Todos_topics5_iters350.model</th>\n",
       "      <td>160.016534</td>\n",
       "    </tr>\n",
       "    <tr>\n",
       "      <th>Todos_topics5_iters500.model</th>\n",
       "      <td>160.016534</td>\n",
       "    </tr>\n",
       "    <tr>\n",
       "      <th>Todos_topics5_iters200.model</th>\n",
       "      <td>160.015185</td>\n",
       "    </tr>\n",
       "    <tr>\n",
       "      <th>Todos_topics9_iters200.model</th>\n",
       "      <td>159.934542</td>\n",
       "    </tr>\n",
       "    <tr>\n",
       "      <th>Todos_topics8_iters350.model</th>\n",
       "      <td>155.505885</td>\n",
       "    </tr>\n",
       "    <tr>\n",
       "      <th>Todos_topics8_iters200.model</th>\n",
       "      <td>155.502884</td>\n",
       "    </tr>\n",
       "    <tr>\n",
       "      <th>Todos_topics8_iters500.model</th>\n",
       "      <td>155.502884</td>\n",
       "    </tr>\n",
       "    <tr>\n",
       "      <th>Todos_topics9_iters500.model</th>\n",
       "      <td>148.206594</td>\n",
       "    </tr>\n",
       "    <tr>\n",
       "      <th>Todos_topics9_iters350.model</th>\n",
       "      <td>147.547019</td>\n",
       "    </tr>\n",
       "    <tr>\n",
       "      <th>Todos_topics6_iters200.model</th>\n",
       "      <td>137.413193</td>\n",
       "    </tr>\n",
       "    <tr>\n",
       "      <th>Todos_topics6_iters350.model</th>\n",
       "      <td>134.488291</td>\n",
       "    </tr>\n",
       "    <tr>\n",
       "      <th>Todos_topics2_iters350.model</th>\n",
       "      <td>134.400876</td>\n",
       "    </tr>\n",
       "    <tr>\n",
       "      <th>Todos_topics2_iters500.model</th>\n",
       "      <td>134.400876</td>\n",
       "    </tr>\n",
       "    <tr>\n",
       "      <th>Todos_topics2_iters200.model</th>\n",
       "      <td>134.400876</td>\n",
       "    </tr>\n",
       "    <tr>\n",
       "      <th>Todos_topics6_iters500.model</th>\n",
       "      <td>133.442275</td>\n",
       "    </tr>\n",
       "    <tr>\n",
       "      <th>Todos_topics3_iters500.model</th>\n",
       "      <td>130.668227</td>\n",
       "    </tr>\n",
       "    <tr>\n",
       "      <th>Todos_topics3_iters350.model</th>\n",
       "      <td>130.668227</td>\n",
       "    </tr>\n",
       "    <tr>\n",
       "      <th>Todos_topics3_iters200.model</th>\n",
       "      <td>130.668227</td>\n",
       "    </tr>\n",
       "    <tr>\n",
       "      <th>Todos_topics7_iters500.model</th>\n",
       "      <td>129.520758</td>\n",
       "    </tr>\n",
       "    <tr>\n",
       "      <th>Todos_topics7_iters200.model</th>\n",
       "      <td>129.440070</td>\n",
       "    </tr>\n",
       "    <tr>\n",
       "      <th>Todos_topics7_iters350.model</th>\n",
       "      <td>128.259298</td>\n",
       "    </tr>\n",
       "    <tr>\n",
       "      <th>Todos_topics4_iters500.model</th>\n",
       "      <td>124.569410</td>\n",
       "    </tr>\n",
       "    <tr>\n",
       "      <th>Todos_topics4_iters350.model</th>\n",
       "      <td>124.569410</td>\n",
       "    </tr>\n",
       "    <tr>\n",
       "      <th>Todos_topics4_iters200.model</th>\n",
       "      <td>123.821561</td>\n",
       "    </tr>\n",
       "  </tbody>\n",
       "</table>\n",
       "</div>"
      ],
      "text/plain": [
       "                                       energia\n",
       "Todos Todos_topics5_iters350.model  160.016534\n",
       "      Todos_topics5_iters500.model  160.016534\n",
       "      Todos_topics5_iters200.model  160.015185\n",
       "      Todos_topics9_iters200.model  159.934542\n",
       "      Todos_topics8_iters350.model  155.505885\n",
       "      Todos_topics8_iters200.model  155.502884\n",
       "      Todos_topics8_iters500.model  155.502884\n",
       "      Todos_topics9_iters500.model  148.206594\n",
       "      Todos_topics9_iters350.model  147.547019\n",
       "      Todos_topics6_iters200.model  137.413193\n",
       "      Todos_topics6_iters350.model  134.488291\n",
       "      Todos_topics2_iters350.model  134.400876\n",
       "      Todos_topics2_iters500.model  134.400876\n",
       "      Todos_topics2_iters200.model  134.400876\n",
       "      Todos_topics6_iters500.model  133.442275\n",
       "      Todos_topics3_iters500.model  130.668227\n",
       "      Todos_topics3_iters350.model  130.668227\n",
       "      Todos_topics3_iters200.model  130.668227\n",
       "      Todos_topics7_iters500.model  129.520758\n",
       "      Todos_topics7_iters200.model  129.440070\n",
       "      Todos_topics7_iters350.model  128.259298\n",
       "      Todos_topics4_iters500.model  124.569410\n",
       "      Todos_topics4_iters350.model  124.569410\n",
       "      Todos_topics4_iters200.model  123.821561"
      ]
     },
     "execution_count": 30,
     "metadata": {},
     "output_type": "execute_result"
    }
   ],
   "source": [
    "# Estudio de la energía mallet\n",
    "iterable = energy_mallet_dict.items()\n",
    "energy_mallet = defaultdict()\n",
    "for stock, energy_dict in iterable:\n",
    "    df = pd.DataFrame.from_dict(energy_dict, orient='index', columns=['energia'])\n",
    "    df = df.sort_values('energia', axis=0, ascending=False)\n",
    "    df = df\n",
    "    energy_mallet[stock] = df\n",
    "energy_mallet_df = pd.concat(energy_mallet)\n",
    "energy_mallet_df"
   ]
  },
  {
   "cell_type": "code",
   "execution_count": 31,
   "metadata": {},
   "outputs": [
    {
     "data": {
      "application/vnd.plotly.v1+json": {
       "config": {
        "linkText": "Export to plot.ly",
        "plotlyServerURL": "https://plot.ly",
        "showLink": false
       },
       "data": [
        {
         "marker": {
          "color": "#086788"
         },
         "name": "gensim_topics7",
         "type": "bar",
         "uid": "f842550a-823f-4efe-92b9-ea13f4529217",
         "x": [
          "topics7"
         ],
         "y": [
          176.29431925609896
         ]
        },
        {
         "marker": {
          "color": "#086788"
         },
         "name": "gensim_topics7",
         "type": "bar",
         "uid": "b16354b6-ef4b-4593-b874-53e5995644b4",
         "x": [
          "topics7"
         ],
         "y": [
          174.18314084266825
         ]
        },
        {
         "marker": {
          "color": "#086788"
         },
         "name": "gensim_topics7",
         "type": "bar",
         "uid": "f5992bc7-dd62-41ad-9f4e-e87d940408f4",
         "x": [
          "topics7"
         ],
         "y": [
          174.18314084266825
         ]
        },
        {
         "marker": {
          "color": "#086788"
         },
         "name": "gensim_topics9",
         "type": "bar",
         "uid": "495cdfed-35ae-490c-8abc-85e632cb1c5b",
         "x": [
          "topics9"
         ],
         "y": [
          172.26853126844722
         ]
        },
        {
         "marker": {
          "color": "#086788"
         },
         "name": "gensim_topics9",
         "type": "bar",
         "uid": "b3f55655-e2fa-45e3-aeb5-a8e7a8c8aabb",
         "x": [
          "topics9"
         ],
         "y": [
          172.26853126844722
         ]
        },
        {
         "marker": {
          "color": "#086788"
         },
         "name": "gensim_topics9",
         "type": "bar",
         "uid": "b597fe9b-0c63-463a-8dea-9787095966f6",
         "x": [
          "topics9"
         ],
         "y": [
          171.8745822293167
         ]
        },
        {
         "marker": {
          "color": "#086788"
         },
         "name": "gensim_topics5",
         "type": "bar",
         "uid": "ae613d67-efa9-4cd7-aeb5-aafe1c963904",
         "x": [
          "topics5"
         ],
         "y": [
          168.60929296816738
         ]
        },
        {
         "marker": {
          "color": "#086788"
         },
         "name": "gensim_topics5",
         "type": "bar",
         "uid": "dae47db3-7612-46f3-9e5d-fc60d0ec4d5a",
         "x": [
          "topics5"
         ],
         "y": [
          168.49913807543345
         ]
        },
        {
         "marker": {
          "color": "#086788"
         },
         "name": "gensim_topics5",
         "type": "bar",
         "uid": "4fbfe310-9b16-4cfa-9eed-1056bbc43e18",
         "x": [
          "topics5"
         ],
         "y": [
          168.42716285867536
         ]
        },
        {
         "marker": {
          "color": "#086788"
         },
         "name": "gensim_topics6",
         "type": "bar",
         "uid": "a65aa8d5-2b3e-459a-90bd-6c336d71a651",
         "x": [
          "topics6"
         ],
         "y": [
          164.15894384044122
         ]
        },
        {
         "marker": {
          "color": "#086788"
         },
         "name": "gensim_topics6",
         "type": "bar",
         "uid": "fabff280-4561-4abd-adf7-3a8d71a4170c",
         "x": [
          "topics6"
         ],
         "y": [
          161.5131436275836
         ]
        },
        {
         "marker": {
          "color": "#086788"
         },
         "name": "gensim_topics6",
         "type": "bar",
         "uid": "d1de8a05-b431-4aa6-bbee-972e90cb58f5",
         "x": [
          "topics6"
         ],
         "y": [
          161.4213370648061
         ]
        },
        {
         "marker": {
          "color": "#086788"
         },
         "name": "gensim_topics4",
         "type": "bar",
         "uid": "5ddb58ac-3039-4129-9076-0acc00410532",
         "x": [
          "topics4"
         ],
         "y": [
          153.5359722327657
         ]
        },
        {
         "marker": {
          "color": "#086788"
         },
         "name": "gensim_topics3",
         "type": "bar",
         "uid": "f8cb1e07-3195-41d1-a3a5-b491c43dd3e4",
         "x": [
          "topics3"
         ],
         "y": [
          151.82216166055284
         ]
        },
        {
         "marker": {
          "color": "#086788"
         },
         "name": "gensim_topics4",
         "type": "bar",
         "uid": "557b21be-4970-4e78-b79c-4793c9f168db",
         "x": [
          "topics4"
         ],
         "y": [
          149.97183155180642
         ]
        },
        {
         "marker": {
          "color": "#086788"
         },
         "name": "gensim_topics4",
         "type": "bar",
         "uid": "de69e5d3-1639-4fd6-8e25-f0a971693344",
         "x": [
          "topics4"
         ],
         "y": [
          149.94464147224662
         ]
        },
        {
         "marker": {
          "color": "#086788"
         },
         "name": "gensim_topics8",
         "type": "bar",
         "uid": "ece66561-2ac9-4405-8d64-5d4834be6415",
         "x": [
          "topics8"
         ],
         "y": [
          147.31038755464272
         ]
        },
        {
         "marker": {
          "color": "#086788"
         },
         "name": "gensim_topics8",
         "type": "bar",
         "uid": "a00836ba-7f1d-4da8-a562-75509a37280f",
         "x": [
          "topics8"
         ],
         "y": [
          146.31708282077707
         ]
        },
        {
         "marker": {
          "color": "#086788"
         },
         "name": "gensim_topics8",
         "type": "bar",
         "uid": "899ba247-3d41-409f-a559-6df3a74fa74d",
         "x": [
          "topics8"
         ],
         "y": [
          145.65927712807897
         ]
        },
        {
         "marker": {
          "color": "#086788"
         },
         "name": "gensim_topics3",
         "type": "bar",
         "uid": "e04bc145-2671-4a3e-ace0-b08d203e440e",
         "x": [
          "topics3"
         ],
         "y": [
          140.70830151816494
         ]
        },
        {
         "marker": {
          "color": "#086788"
         },
         "name": "gensim_topics3",
         "type": "bar",
         "uid": "1011ccd1-2435-4225-9e16-87954c160dc2",
         "x": [
          "topics3"
         ],
         "y": [
          140.70830151816494
         ]
        },
        {
         "marker": {
          "color": "#086788"
         },
         "name": "gensim_topics2",
         "type": "bar",
         "uid": "8cda10ea-3491-4065-8e04-46346c1407fe",
         "x": [
          "topics2"
         ],
         "y": [
          136.70876083154712
         ]
        },
        {
         "marker": {
          "color": "#086788"
         },
         "name": "gensim_topics2",
         "type": "bar",
         "uid": "748f351f-d680-4329-a48c-42e7db30b70e",
         "x": [
          "topics2"
         ],
         "y": [
          129.61908925869324
         ]
        },
        {
         "marker": {
          "color": "#086788"
         },
         "name": "gensim_topics2",
         "type": "bar",
         "uid": "94616b97-ac0d-485e-b118-6828e55a2822",
         "x": [
          "topics2"
         ],
         "y": [
          129.5647090995736
         ]
        },
        {
         "marker": {
          "color": "#AE3922"
         },
         "name": "mallet_topics5",
         "type": "bar",
         "uid": "762b5b2b-4ab5-45a4-a784-c094b8427a3b",
         "x": [
          "topics5"
         ],
         "y": [
          160.01653435894326
         ]
        },
        {
         "marker": {
          "color": "#AE3922"
         },
         "name": "mallet_topics5",
         "type": "bar",
         "uid": "1704e982-3c16-4ac6-8a6b-dcbeb732a3d3",
         "x": [
          "topics5"
         ],
         "y": [
          160.01653435894323
         ]
        },
        {
         "marker": {
          "color": "#AE3922"
         },
         "name": "mallet_topics5",
         "type": "bar",
         "uid": "3d0d93ba-5206-4220-beb4-1e70e7f4e7a6",
         "x": [
          "topics5"
         ],
         "y": [
          160.01518530636312
         ]
        },
        {
         "marker": {
          "color": "#AE3922"
         },
         "name": "mallet_topics9",
         "type": "bar",
         "uid": "0d613b75-1649-4f06-bcae-0774815c35ed",
         "x": [
          "topics9"
         ],
         "y": [
          159.93454215743134
         ]
        },
        {
         "marker": {
          "color": "#AE3922"
         },
         "name": "mallet_topics8",
         "type": "bar",
         "uid": "de9b0c9f-f166-469d-8995-5d1d376077f0",
         "x": [
          "topics8"
         ],
         "y": [
          155.505884915057
         ]
        },
        {
         "marker": {
          "color": "#AE3922"
         },
         "name": "mallet_topics8",
         "type": "bar",
         "uid": "a3cf99ba-5245-4743-afd8-f34a5c47b2d8",
         "x": [
          "topics8"
         ],
         "y": [
          155.50288440010877
         ]
        },
        {
         "marker": {
          "color": "#AE3922"
         },
         "name": "mallet_topics8",
         "type": "bar",
         "uid": "ae1ed0a7-2935-4199-90ed-b234cc8dffe4",
         "x": [
          "topics8"
         ],
         "y": [
          155.50288440010874
         ]
        },
        {
         "marker": {
          "color": "#AE3922"
         },
         "name": "mallet_topics9",
         "type": "bar",
         "uid": "378751d7-79e3-4890-b3c8-9d98a0e6ccab",
         "x": [
          "topics9"
         ],
         "y": [
          148.2065941213612
         ]
        },
        {
         "marker": {
          "color": "#AE3922"
         },
         "name": "mallet_topics9",
         "type": "bar",
         "uid": "30a94a32-5c2e-4221-828a-6a7f7c018485",
         "x": [
          "topics9"
         ],
         "y": [
          147.54701915822554
         ]
        },
        {
         "marker": {
          "color": "#AE3922"
         },
         "name": "mallet_topics6",
         "type": "bar",
         "uid": "c0bbe0f7-4805-4945-b8f5-ded6234958bf",
         "x": [
          "topics6"
         ],
         "y": [
          137.4131925240263
         ]
        },
        {
         "marker": {
          "color": "#AE3922"
         },
         "name": "mallet_topics6",
         "type": "bar",
         "uid": "2956a1f0-abd9-426d-b162-35308d9014ae",
         "x": [
          "topics6"
         ],
         "y": [
          134.48829112714546
         ]
        },
        {
         "marker": {
          "color": "#AE3922"
         },
         "name": "mallet_topics2",
         "type": "bar",
         "uid": "c950ab4f-bf52-4b02-9fe0-3fc831e28fa3",
         "x": [
          "topics2"
         ],
         "y": [
          134.40087630361066
         ]
        },
        {
         "marker": {
          "color": "#AE3922"
         },
         "name": "mallet_topics2",
         "type": "bar",
         "uid": "90c02d5d-3d94-4d0a-a136-132174b8459b",
         "x": [
          "topics2"
         ],
         "y": [
          134.40087630361066
         ]
        },
        {
         "marker": {
          "color": "#AE3922"
         },
         "name": "mallet_topics2",
         "type": "bar",
         "uid": "bad1ca81-73be-4e13-b41b-226d290fb373",
         "x": [
          "topics2"
         ],
         "y": [
          134.40087630361066
         ]
        },
        {
         "marker": {
          "color": "#AE3922"
         },
         "name": "mallet_topics6",
         "type": "bar",
         "uid": "9ea792f1-7bb0-4416-bfd1-633b3a6ab8b8",
         "x": [
          "topics6"
         ],
         "y": [
          133.44227465911536
         ]
        },
        {
         "marker": {
          "color": "#AE3922"
         },
         "name": "mallet_topics3",
         "type": "bar",
         "uid": "114feefd-0fd4-4ed5-b172-e42d9df5e109",
         "x": [
          "topics3"
         ],
         "y": [
          130.66822739403716
         ]
        },
        {
         "marker": {
          "color": "#AE3922"
         },
         "name": "mallet_topics3",
         "type": "bar",
         "uid": "7e195e49-a298-4d52-8cf0-e5715ae578b1",
         "x": [
          "topics3"
         ],
         "y": [
          130.66822739403716
         ]
        },
        {
         "marker": {
          "color": "#AE3922"
         },
         "name": "mallet_topics3",
         "type": "bar",
         "uid": "bf65614f-0485-4315-a7dc-ab3ff755cf7d",
         "x": [
          "topics3"
         ],
         "y": [
          130.66822739403716
         ]
        },
        {
         "marker": {
          "color": "#AE3922"
         },
         "name": "mallet_topics7",
         "type": "bar",
         "uid": "85ed17da-31e1-4424-862d-fa70dd9dc430",
         "x": [
          "topics7"
         ],
         "y": [
          129.5207583568616
         ]
        },
        {
         "marker": {
          "color": "#AE3922"
         },
         "name": "mallet_topics7",
         "type": "bar",
         "uid": "d569e73c-a05c-465c-86e0-0cb7b5ee60ce",
         "x": [
          "topics7"
         ],
         "y": [
          129.4400701825149
         ]
        },
        {
         "marker": {
          "color": "#AE3922"
         },
         "name": "mallet_topics7",
         "type": "bar",
         "uid": "b042cc8b-fd1a-49ee-9dec-718566bb4a9c",
         "x": [
          "topics7"
         ],
         "y": [
          128.2592980565979
         ]
        },
        {
         "marker": {
          "color": "#AE3922"
         },
         "name": "mallet_topics4",
         "type": "bar",
         "uid": "21af3a20-3a76-456a-a495-37266c28a550",
         "x": [
          "topics4"
         ],
         "y": [
          124.56941007978268
         ]
        },
        {
         "marker": {
          "color": "#AE3922"
         },
         "name": "mallet_topics4",
         "type": "bar",
         "uid": "fac1a4a2-d9ff-4f5e-a35d-cc86f71676c2",
         "x": [
          "topics4"
         ],
         "y": [
          124.56941007978268
         ]
        },
        {
         "marker": {
          "color": "#AE3922"
         },
         "name": "mallet_topics4",
         "type": "bar",
         "uid": "fd3214ee-a06f-4bac-b7f7-f1a1a65f606b",
         "x": [
          "topics4"
         ],
         "y": [
          123.82156069246065
         ]
        }
       ],
       "layout": {
        "title": {
         "text": "Todos"
        }
       }
      },
      "text/html": [
       "<div id=\"1c9c5a9b-cf85-437d-a29f-7a66782ebf13\" style=\"height: 525px; width: 100%;\" class=\"plotly-graph-div\"></div><script type=\"text/javascript\">require([\"plotly\"], function(Plotly) { window.PLOTLYENV=window.PLOTLYENV || {};window.PLOTLYENV.BASE_URL=\"https://plot.ly\";Plotly.newPlot(\"1c9c5a9b-cf85-437d-a29f-7a66782ebf13\", [{\"marker\": {\"color\": \"#086788\"}, \"name\": \"gensim_topics7\", \"x\": [\"topics7\"], \"y\": [176.29431925609896], \"type\": \"bar\", \"uid\": \"f842550a-823f-4efe-92b9-ea13f4529217\"}, {\"marker\": {\"color\": \"#086788\"}, \"name\": \"gensim_topics7\", \"x\": [\"topics7\"], \"y\": [174.18314084266825], \"type\": \"bar\", \"uid\": \"b16354b6-ef4b-4593-b874-53e5995644b4\"}, {\"marker\": {\"color\": \"#086788\"}, \"name\": \"gensim_topics7\", \"x\": [\"topics7\"], \"y\": [174.18314084266825], \"type\": \"bar\", \"uid\": \"f5992bc7-dd62-41ad-9f4e-e87d940408f4\"}, {\"marker\": {\"color\": \"#086788\"}, \"name\": \"gensim_topics9\", \"x\": [\"topics9\"], \"y\": [172.26853126844722], \"type\": \"bar\", \"uid\": \"495cdfed-35ae-490c-8abc-85e632cb1c5b\"}, {\"marker\": {\"color\": \"#086788\"}, \"name\": \"gensim_topics9\", \"x\": [\"topics9\"], \"y\": [172.26853126844722], \"type\": \"bar\", \"uid\": \"b3f55655-e2fa-45e3-aeb5-a8e7a8c8aabb\"}, {\"marker\": {\"color\": \"#086788\"}, \"name\": \"gensim_topics9\", \"x\": [\"topics9\"], \"y\": [171.8745822293167], \"type\": \"bar\", \"uid\": \"b597fe9b-0c63-463a-8dea-9787095966f6\"}, {\"marker\": {\"color\": \"#086788\"}, \"name\": \"gensim_topics5\", \"x\": [\"topics5\"], \"y\": [168.60929296816738], \"type\": \"bar\", \"uid\": \"ae613d67-efa9-4cd7-aeb5-aafe1c963904\"}, {\"marker\": {\"color\": \"#086788\"}, \"name\": \"gensim_topics5\", \"x\": [\"topics5\"], \"y\": [168.49913807543345], \"type\": \"bar\", \"uid\": \"dae47db3-7612-46f3-9e5d-fc60d0ec4d5a\"}, {\"marker\": {\"color\": \"#086788\"}, \"name\": \"gensim_topics5\", \"x\": [\"topics5\"], \"y\": [168.42716285867536], \"type\": \"bar\", \"uid\": \"4fbfe310-9b16-4cfa-9eed-1056bbc43e18\"}, {\"marker\": {\"color\": \"#086788\"}, \"name\": \"gensim_topics6\", \"x\": [\"topics6\"], \"y\": [164.15894384044122], \"type\": \"bar\", \"uid\": \"a65aa8d5-2b3e-459a-90bd-6c336d71a651\"}, {\"marker\": {\"color\": \"#086788\"}, \"name\": \"gensim_topics6\", \"x\": [\"topics6\"], \"y\": [161.5131436275836], \"type\": \"bar\", \"uid\": \"fabff280-4561-4abd-adf7-3a8d71a4170c\"}, {\"marker\": {\"color\": \"#086788\"}, \"name\": \"gensim_topics6\", \"x\": [\"topics6\"], \"y\": [161.4213370648061], \"type\": \"bar\", \"uid\": \"d1de8a05-b431-4aa6-bbee-972e90cb58f5\"}, {\"marker\": {\"color\": \"#086788\"}, \"name\": \"gensim_topics4\", \"x\": [\"topics4\"], \"y\": [153.5359722327657], \"type\": \"bar\", \"uid\": \"5ddb58ac-3039-4129-9076-0acc00410532\"}, {\"marker\": {\"color\": \"#086788\"}, \"name\": \"gensim_topics3\", \"x\": [\"topics3\"], \"y\": [151.82216166055284], \"type\": \"bar\", \"uid\": \"f8cb1e07-3195-41d1-a3a5-b491c43dd3e4\"}, {\"marker\": {\"color\": \"#086788\"}, \"name\": \"gensim_topics4\", \"x\": [\"topics4\"], \"y\": [149.97183155180642], \"type\": \"bar\", \"uid\": \"557b21be-4970-4e78-b79c-4793c9f168db\"}, {\"marker\": {\"color\": \"#086788\"}, \"name\": \"gensim_topics4\", \"x\": [\"topics4\"], \"y\": [149.94464147224662], \"type\": \"bar\", \"uid\": \"de69e5d3-1639-4fd6-8e25-f0a971693344\"}, {\"marker\": {\"color\": \"#086788\"}, \"name\": \"gensim_topics8\", \"x\": [\"topics8\"], \"y\": [147.31038755464272], \"type\": \"bar\", \"uid\": \"ece66561-2ac9-4405-8d64-5d4834be6415\"}, {\"marker\": {\"color\": \"#086788\"}, \"name\": \"gensim_topics8\", \"x\": [\"topics8\"], \"y\": [146.31708282077707], \"type\": \"bar\", \"uid\": \"a00836ba-7f1d-4da8-a562-75509a37280f\"}, {\"marker\": {\"color\": \"#086788\"}, \"name\": \"gensim_topics8\", \"x\": [\"topics8\"], \"y\": [145.65927712807897], \"type\": \"bar\", \"uid\": \"899ba247-3d41-409f-a559-6df3a74fa74d\"}, {\"marker\": {\"color\": \"#086788\"}, \"name\": \"gensim_topics3\", \"x\": [\"topics3\"], \"y\": [140.70830151816494], \"type\": \"bar\", \"uid\": \"e04bc145-2671-4a3e-ace0-b08d203e440e\"}, {\"marker\": {\"color\": \"#086788\"}, \"name\": \"gensim_topics3\", \"x\": [\"topics3\"], \"y\": [140.70830151816494], \"type\": \"bar\", \"uid\": \"1011ccd1-2435-4225-9e16-87954c160dc2\"}, {\"marker\": {\"color\": \"#086788\"}, \"name\": \"gensim_topics2\", \"x\": [\"topics2\"], \"y\": [136.70876083154712], \"type\": \"bar\", \"uid\": \"8cda10ea-3491-4065-8e04-46346c1407fe\"}, {\"marker\": {\"color\": \"#086788\"}, \"name\": \"gensim_topics2\", \"x\": [\"topics2\"], \"y\": [129.61908925869324], \"type\": \"bar\", \"uid\": \"748f351f-d680-4329-a48c-42e7db30b70e\"}, {\"marker\": {\"color\": \"#086788\"}, \"name\": \"gensim_topics2\", \"x\": [\"topics2\"], \"y\": [129.5647090995736], \"type\": \"bar\", \"uid\": \"94616b97-ac0d-485e-b118-6828e55a2822\"}, {\"marker\": {\"color\": \"#AE3922\"}, \"name\": \"mallet_topics5\", \"x\": [\"topics5\"], \"y\": [160.01653435894326], \"type\": \"bar\", \"uid\": \"762b5b2b-4ab5-45a4-a784-c094b8427a3b\"}, {\"marker\": {\"color\": \"#AE3922\"}, \"name\": \"mallet_topics5\", \"x\": [\"topics5\"], \"y\": [160.01653435894323], \"type\": \"bar\", \"uid\": \"1704e982-3c16-4ac6-8a6b-dcbeb732a3d3\"}, {\"marker\": {\"color\": \"#AE3922\"}, \"name\": \"mallet_topics5\", \"x\": [\"topics5\"], \"y\": [160.01518530636312], \"type\": \"bar\", \"uid\": \"3d0d93ba-5206-4220-beb4-1e70e7f4e7a6\"}, {\"marker\": {\"color\": \"#AE3922\"}, \"name\": \"mallet_topics9\", \"x\": [\"topics9\"], \"y\": [159.93454215743134], \"type\": \"bar\", \"uid\": \"0d613b75-1649-4f06-bcae-0774815c35ed\"}, {\"marker\": {\"color\": \"#AE3922\"}, \"name\": \"mallet_topics8\", \"x\": [\"topics8\"], \"y\": [155.505884915057], \"type\": \"bar\", \"uid\": \"de9b0c9f-f166-469d-8995-5d1d376077f0\"}, {\"marker\": {\"color\": \"#AE3922\"}, \"name\": \"mallet_topics8\", \"x\": [\"topics8\"], \"y\": [155.50288440010877], \"type\": \"bar\", \"uid\": \"a3cf99ba-5245-4743-afd8-f34a5c47b2d8\"}, {\"marker\": {\"color\": \"#AE3922\"}, \"name\": \"mallet_topics8\", \"x\": [\"topics8\"], \"y\": [155.50288440010874], \"type\": \"bar\", \"uid\": \"ae1ed0a7-2935-4199-90ed-b234cc8dffe4\"}, {\"marker\": {\"color\": \"#AE3922\"}, \"name\": \"mallet_topics9\", \"x\": [\"topics9\"], \"y\": [148.2065941213612], \"type\": \"bar\", \"uid\": \"378751d7-79e3-4890-b3c8-9d98a0e6ccab\"}, {\"marker\": {\"color\": \"#AE3922\"}, \"name\": \"mallet_topics9\", \"x\": [\"topics9\"], \"y\": [147.54701915822554], \"type\": \"bar\", \"uid\": \"30a94a32-5c2e-4221-828a-6a7f7c018485\"}, {\"marker\": {\"color\": \"#AE3922\"}, \"name\": \"mallet_topics6\", \"x\": [\"topics6\"], \"y\": [137.4131925240263], \"type\": \"bar\", \"uid\": \"c0bbe0f7-4805-4945-b8f5-ded6234958bf\"}, {\"marker\": {\"color\": \"#AE3922\"}, \"name\": \"mallet_topics6\", \"x\": [\"topics6\"], \"y\": [134.48829112714546], \"type\": \"bar\", \"uid\": \"2956a1f0-abd9-426d-b162-35308d9014ae\"}, {\"marker\": {\"color\": \"#AE3922\"}, \"name\": \"mallet_topics2\", \"x\": [\"topics2\"], \"y\": [134.40087630361066], \"type\": \"bar\", \"uid\": \"c950ab4f-bf52-4b02-9fe0-3fc831e28fa3\"}, {\"marker\": {\"color\": \"#AE3922\"}, \"name\": \"mallet_topics2\", \"x\": [\"topics2\"], \"y\": [134.40087630361066], \"type\": \"bar\", \"uid\": \"90c02d5d-3d94-4d0a-a136-132174b8459b\"}, {\"marker\": {\"color\": \"#AE3922\"}, \"name\": \"mallet_topics2\", \"x\": [\"topics2\"], \"y\": [134.40087630361066], \"type\": \"bar\", \"uid\": \"bad1ca81-73be-4e13-b41b-226d290fb373\"}, {\"marker\": {\"color\": \"#AE3922\"}, \"name\": \"mallet_topics6\", \"x\": [\"topics6\"], \"y\": [133.44227465911536], \"type\": \"bar\", \"uid\": \"9ea792f1-7bb0-4416-bfd1-633b3a6ab8b8\"}, {\"marker\": {\"color\": \"#AE3922\"}, \"name\": \"mallet_topics3\", \"x\": [\"topics3\"], \"y\": [130.66822739403716], \"type\": \"bar\", \"uid\": \"114feefd-0fd4-4ed5-b172-e42d9df5e109\"}, {\"marker\": {\"color\": \"#AE3922\"}, \"name\": \"mallet_topics3\", \"x\": [\"topics3\"], \"y\": [130.66822739403716], \"type\": \"bar\", \"uid\": \"7e195e49-a298-4d52-8cf0-e5715ae578b1\"}, {\"marker\": {\"color\": \"#AE3922\"}, \"name\": \"mallet_topics3\", \"x\": [\"topics3\"], \"y\": [130.66822739403716], \"type\": \"bar\", \"uid\": \"bf65614f-0485-4315-a7dc-ab3ff755cf7d\"}, {\"marker\": {\"color\": \"#AE3922\"}, \"name\": \"mallet_topics7\", \"x\": [\"topics7\"], \"y\": [129.5207583568616], \"type\": \"bar\", \"uid\": \"85ed17da-31e1-4424-862d-fa70dd9dc430\"}, {\"marker\": {\"color\": \"#AE3922\"}, \"name\": \"mallet_topics7\", \"x\": [\"topics7\"], \"y\": [129.4400701825149], \"type\": \"bar\", \"uid\": \"d569e73c-a05c-465c-86e0-0cb7b5ee60ce\"}, {\"marker\": {\"color\": \"#AE3922\"}, \"name\": \"mallet_topics7\", \"x\": [\"topics7\"], \"y\": [128.2592980565979], \"type\": \"bar\", \"uid\": \"b042cc8b-fd1a-49ee-9dec-718566bb4a9c\"}, {\"marker\": {\"color\": \"#AE3922\"}, \"name\": \"mallet_topics4\", \"x\": [\"topics4\"], \"y\": [124.56941007978268], \"type\": \"bar\", \"uid\": \"21af3a20-3a76-456a-a495-37266c28a550\"}, {\"marker\": {\"color\": \"#AE3922\"}, \"name\": \"mallet_topics4\", \"x\": [\"topics4\"], \"y\": [124.56941007978268], \"type\": \"bar\", \"uid\": \"fac1a4a2-d9ff-4f5e-a35d-cc86f71676c2\"}, {\"marker\": {\"color\": \"#AE3922\"}, \"name\": \"mallet_topics4\", \"x\": [\"topics4\"], \"y\": [123.82156069246065], \"type\": \"bar\", \"uid\": \"fd3214ee-a06f-4bac-b7f7-f1a1a65f606b\"}], {\"title\": {\"text\": \"Todos\"}}, {\"showLink\": false, \"linkText\": \"Export to plot.ly\", \"plotlyServerURL\": \"https://plot.ly\"})});</script><script type=\"text/javascript\">window.addEventListener(\"resize\", function(){window._Plotly.Plots.resize(document.getElementById(\"1c9c5a9b-cf85-437d-a29f-7a66782ebf13\"));});</script>"
      ],
      "text/vnd.plotly.v1+html": [
       "<div id=\"1c9c5a9b-cf85-437d-a29f-7a66782ebf13\" style=\"height: 525px; width: 100%;\" class=\"plotly-graph-div\"></div><script type=\"text/javascript\">require([\"plotly\"], function(Plotly) { window.PLOTLYENV=window.PLOTLYENV || {};window.PLOTLYENV.BASE_URL=\"https://plot.ly\";Plotly.newPlot(\"1c9c5a9b-cf85-437d-a29f-7a66782ebf13\", [{\"marker\": {\"color\": \"#086788\"}, \"name\": \"gensim_topics7\", \"x\": [\"topics7\"], \"y\": [176.29431925609896], \"type\": \"bar\", \"uid\": \"f842550a-823f-4efe-92b9-ea13f4529217\"}, {\"marker\": {\"color\": \"#086788\"}, \"name\": \"gensim_topics7\", \"x\": [\"topics7\"], \"y\": [174.18314084266825], \"type\": \"bar\", \"uid\": \"b16354b6-ef4b-4593-b874-53e5995644b4\"}, {\"marker\": {\"color\": \"#086788\"}, \"name\": \"gensim_topics7\", \"x\": [\"topics7\"], \"y\": [174.18314084266825], \"type\": \"bar\", \"uid\": \"f5992bc7-dd62-41ad-9f4e-e87d940408f4\"}, {\"marker\": {\"color\": \"#086788\"}, \"name\": \"gensim_topics9\", \"x\": [\"topics9\"], \"y\": [172.26853126844722], \"type\": \"bar\", \"uid\": \"495cdfed-35ae-490c-8abc-85e632cb1c5b\"}, {\"marker\": {\"color\": \"#086788\"}, \"name\": \"gensim_topics9\", \"x\": [\"topics9\"], \"y\": [172.26853126844722], \"type\": \"bar\", \"uid\": \"b3f55655-e2fa-45e3-aeb5-a8e7a8c8aabb\"}, {\"marker\": {\"color\": \"#086788\"}, \"name\": \"gensim_topics9\", \"x\": [\"topics9\"], \"y\": [171.8745822293167], \"type\": \"bar\", \"uid\": \"b597fe9b-0c63-463a-8dea-9787095966f6\"}, {\"marker\": {\"color\": \"#086788\"}, \"name\": \"gensim_topics5\", \"x\": [\"topics5\"], \"y\": [168.60929296816738], \"type\": \"bar\", \"uid\": \"ae613d67-efa9-4cd7-aeb5-aafe1c963904\"}, {\"marker\": {\"color\": \"#086788\"}, \"name\": \"gensim_topics5\", \"x\": [\"topics5\"], \"y\": [168.49913807543345], \"type\": \"bar\", \"uid\": \"dae47db3-7612-46f3-9e5d-fc60d0ec4d5a\"}, {\"marker\": {\"color\": \"#086788\"}, \"name\": \"gensim_topics5\", \"x\": [\"topics5\"], \"y\": [168.42716285867536], \"type\": \"bar\", \"uid\": \"4fbfe310-9b16-4cfa-9eed-1056bbc43e18\"}, {\"marker\": {\"color\": \"#086788\"}, \"name\": \"gensim_topics6\", \"x\": [\"topics6\"], \"y\": [164.15894384044122], \"type\": \"bar\", \"uid\": \"a65aa8d5-2b3e-459a-90bd-6c336d71a651\"}, {\"marker\": {\"color\": \"#086788\"}, \"name\": \"gensim_topics6\", \"x\": [\"topics6\"], \"y\": [161.5131436275836], \"type\": \"bar\", \"uid\": \"fabff280-4561-4abd-adf7-3a8d71a4170c\"}, {\"marker\": {\"color\": \"#086788\"}, \"name\": \"gensim_topics6\", \"x\": [\"topics6\"], \"y\": [161.4213370648061], \"type\": \"bar\", \"uid\": \"d1de8a05-b431-4aa6-bbee-972e90cb58f5\"}, {\"marker\": {\"color\": \"#086788\"}, \"name\": \"gensim_topics4\", \"x\": [\"topics4\"], \"y\": [153.5359722327657], \"type\": \"bar\", \"uid\": \"5ddb58ac-3039-4129-9076-0acc00410532\"}, {\"marker\": {\"color\": \"#086788\"}, \"name\": \"gensim_topics3\", \"x\": [\"topics3\"], \"y\": [151.82216166055284], \"type\": \"bar\", \"uid\": \"f8cb1e07-3195-41d1-a3a5-b491c43dd3e4\"}, {\"marker\": {\"color\": \"#086788\"}, \"name\": \"gensim_topics4\", \"x\": [\"topics4\"], \"y\": [149.97183155180642], \"type\": \"bar\", \"uid\": \"557b21be-4970-4e78-b79c-4793c9f168db\"}, {\"marker\": {\"color\": \"#086788\"}, \"name\": \"gensim_topics4\", \"x\": [\"topics4\"], \"y\": [149.94464147224662], \"type\": \"bar\", \"uid\": \"de69e5d3-1639-4fd6-8e25-f0a971693344\"}, {\"marker\": {\"color\": \"#086788\"}, \"name\": \"gensim_topics8\", \"x\": [\"topics8\"], \"y\": [147.31038755464272], \"type\": \"bar\", \"uid\": \"ece66561-2ac9-4405-8d64-5d4834be6415\"}, {\"marker\": {\"color\": \"#086788\"}, \"name\": \"gensim_topics8\", \"x\": [\"topics8\"], \"y\": [146.31708282077707], \"type\": \"bar\", \"uid\": \"a00836ba-7f1d-4da8-a562-75509a37280f\"}, {\"marker\": {\"color\": \"#086788\"}, \"name\": \"gensim_topics8\", \"x\": [\"topics8\"], \"y\": [145.65927712807897], \"type\": \"bar\", \"uid\": \"899ba247-3d41-409f-a559-6df3a74fa74d\"}, {\"marker\": {\"color\": \"#086788\"}, \"name\": \"gensim_topics3\", \"x\": [\"topics3\"], \"y\": [140.70830151816494], \"type\": \"bar\", \"uid\": \"e04bc145-2671-4a3e-ace0-b08d203e440e\"}, {\"marker\": {\"color\": \"#086788\"}, \"name\": \"gensim_topics3\", \"x\": [\"topics3\"], \"y\": [140.70830151816494], \"type\": \"bar\", \"uid\": \"1011ccd1-2435-4225-9e16-87954c160dc2\"}, {\"marker\": {\"color\": \"#086788\"}, \"name\": \"gensim_topics2\", \"x\": [\"topics2\"], \"y\": [136.70876083154712], \"type\": \"bar\", \"uid\": \"8cda10ea-3491-4065-8e04-46346c1407fe\"}, {\"marker\": {\"color\": \"#086788\"}, \"name\": \"gensim_topics2\", \"x\": [\"topics2\"], \"y\": [129.61908925869324], \"type\": \"bar\", \"uid\": \"748f351f-d680-4329-a48c-42e7db30b70e\"}, {\"marker\": {\"color\": \"#086788\"}, \"name\": \"gensim_topics2\", \"x\": [\"topics2\"], \"y\": [129.5647090995736], \"type\": \"bar\", \"uid\": \"94616b97-ac0d-485e-b118-6828e55a2822\"}, {\"marker\": {\"color\": \"#AE3922\"}, \"name\": \"mallet_topics5\", \"x\": [\"topics5\"], \"y\": [160.01653435894326], \"type\": \"bar\", \"uid\": \"762b5b2b-4ab5-45a4-a784-c094b8427a3b\"}, {\"marker\": {\"color\": \"#AE3922\"}, \"name\": \"mallet_topics5\", \"x\": [\"topics5\"], \"y\": [160.01653435894323], \"type\": \"bar\", \"uid\": \"1704e982-3c16-4ac6-8a6b-dcbeb732a3d3\"}, {\"marker\": {\"color\": \"#AE3922\"}, \"name\": \"mallet_topics5\", \"x\": [\"topics5\"], \"y\": [160.01518530636312], \"type\": \"bar\", \"uid\": \"3d0d93ba-5206-4220-beb4-1e70e7f4e7a6\"}, {\"marker\": {\"color\": \"#AE3922\"}, \"name\": \"mallet_topics9\", \"x\": [\"topics9\"], \"y\": [159.93454215743134], \"type\": \"bar\", \"uid\": \"0d613b75-1649-4f06-bcae-0774815c35ed\"}, {\"marker\": {\"color\": \"#AE3922\"}, \"name\": \"mallet_topics8\", \"x\": [\"topics8\"], \"y\": [155.505884915057], \"type\": \"bar\", \"uid\": \"de9b0c9f-f166-469d-8995-5d1d376077f0\"}, {\"marker\": {\"color\": \"#AE3922\"}, \"name\": \"mallet_topics8\", \"x\": [\"topics8\"], \"y\": [155.50288440010877], \"type\": \"bar\", \"uid\": \"a3cf99ba-5245-4743-afd8-f34a5c47b2d8\"}, {\"marker\": {\"color\": \"#AE3922\"}, \"name\": \"mallet_topics8\", \"x\": [\"topics8\"], \"y\": [155.50288440010874], \"type\": \"bar\", \"uid\": \"ae1ed0a7-2935-4199-90ed-b234cc8dffe4\"}, {\"marker\": {\"color\": \"#AE3922\"}, \"name\": \"mallet_topics9\", \"x\": [\"topics9\"], \"y\": [148.2065941213612], \"type\": \"bar\", \"uid\": \"378751d7-79e3-4890-b3c8-9d98a0e6ccab\"}, {\"marker\": {\"color\": \"#AE3922\"}, \"name\": \"mallet_topics9\", \"x\": [\"topics9\"], \"y\": [147.54701915822554], \"type\": \"bar\", \"uid\": \"30a94a32-5c2e-4221-828a-6a7f7c018485\"}, {\"marker\": {\"color\": \"#AE3922\"}, \"name\": \"mallet_topics6\", \"x\": [\"topics6\"], \"y\": [137.4131925240263], \"type\": \"bar\", \"uid\": \"c0bbe0f7-4805-4945-b8f5-ded6234958bf\"}, {\"marker\": {\"color\": \"#AE3922\"}, \"name\": \"mallet_topics6\", \"x\": [\"topics6\"], \"y\": [134.48829112714546], \"type\": \"bar\", \"uid\": \"2956a1f0-abd9-426d-b162-35308d9014ae\"}, {\"marker\": {\"color\": \"#AE3922\"}, \"name\": \"mallet_topics2\", \"x\": [\"topics2\"], \"y\": [134.40087630361066], \"type\": \"bar\", \"uid\": \"c950ab4f-bf52-4b02-9fe0-3fc831e28fa3\"}, {\"marker\": {\"color\": \"#AE3922\"}, \"name\": \"mallet_topics2\", \"x\": [\"topics2\"], \"y\": [134.40087630361066], \"type\": \"bar\", \"uid\": \"90c02d5d-3d94-4d0a-a136-132174b8459b\"}, {\"marker\": {\"color\": \"#AE3922\"}, \"name\": \"mallet_topics2\", \"x\": [\"topics2\"], \"y\": [134.40087630361066], \"type\": \"bar\", \"uid\": \"bad1ca81-73be-4e13-b41b-226d290fb373\"}, {\"marker\": {\"color\": \"#AE3922\"}, \"name\": \"mallet_topics6\", \"x\": [\"topics6\"], \"y\": [133.44227465911536], \"type\": \"bar\", \"uid\": \"9ea792f1-7bb0-4416-bfd1-633b3a6ab8b8\"}, {\"marker\": {\"color\": \"#AE3922\"}, \"name\": \"mallet_topics3\", \"x\": [\"topics3\"], \"y\": [130.66822739403716], \"type\": \"bar\", \"uid\": \"114feefd-0fd4-4ed5-b172-e42d9df5e109\"}, {\"marker\": {\"color\": \"#AE3922\"}, \"name\": \"mallet_topics3\", \"x\": [\"topics3\"], \"y\": [130.66822739403716], \"type\": \"bar\", \"uid\": \"7e195e49-a298-4d52-8cf0-e5715ae578b1\"}, {\"marker\": {\"color\": \"#AE3922\"}, \"name\": \"mallet_topics3\", \"x\": [\"topics3\"], \"y\": [130.66822739403716], \"type\": \"bar\", \"uid\": \"bf65614f-0485-4315-a7dc-ab3ff755cf7d\"}, {\"marker\": {\"color\": \"#AE3922\"}, \"name\": \"mallet_topics7\", \"x\": [\"topics7\"], \"y\": [129.5207583568616], \"type\": \"bar\", \"uid\": \"85ed17da-31e1-4424-862d-fa70dd9dc430\"}, {\"marker\": {\"color\": \"#AE3922\"}, \"name\": \"mallet_topics7\", \"x\": [\"topics7\"], \"y\": [129.4400701825149], \"type\": \"bar\", \"uid\": \"d569e73c-a05c-465c-86e0-0cb7b5ee60ce\"}, {\"marker\": {\"color\": \"#AE3922\"}, \"name\": \"mallet_topics7\", \"x\": [\"topics7\"], \"y\": [128.2592980565979], \"type\": \"bar\", \"uid\": \"b042cc8b-fd1a-49ee-9dec-718566bb4a9c\"}, {\"marker\": {\"color\": \"#AE3922\"}, \"name\": \"mallet_topics4\", \"x\": [\"topics4\"], \"y\": [124.56941007978268], \"type\": \"bar\", \"uid\": \"21af3a20-3a76-456a-a495-37266c28a550\"}, {\"marker\": {\"color\": \"#AE3922\"}, \"name\": \"mallet_topics4\", \"x\": [\"topics4\"], \"y\": [124.56941007978268], \"type\": \"bar\", \"uid\": \"fac1a4a2-d9ff-4f5e-a35d-cc86f71676c2\"}, {\"marker\": {\"color\": \"#AE3922\"}, \"name\": \"mallet_topics4\", \"x\": [\"topics4\"], \"y\": [123.82156069246065], \"type\": \"bar\", \"uid\": \"fd3214ee-a06f-4bac-b7f7-f1a1a65f606b\"}], {\"title\": {\"text\": \"Todos\"}}, {\"showLink\": false, \"linkText\": \"Export to plot.ly\", \"plotlyServerURL\": \"https://plot.ly\"})});</script><script type=\"text/javascript\">window.addEventListener(\"resize\", function(){window._Plotly.Plots.resize(document.getElementById(\"1c9c5a9b-cf85-437d-a29f-7a66782ebf13\"));});</script>"
      ]
     },
     "metadata": {},
     "output_type": "display_data"
    }
   ],
   "source": [
    "stock = 'Todos'\n",
    "\n",
    "def graph_energies(lda_df,mallet_df,stock):\n",
    "    lda_stock = lda_df.loc[stock]\n",
    "    mallet_stock = mallet_df.loc[stock]\n",
    "    traces = list()\n",
    "    iterable_lda = lda_stock.iterrows()\n",
    "    for item in iterable_lda:\n",
    "        modelo = item[0]\n",
    "        modelo = modelo.strip('.model')\n",
    "        topics = modelo.split('_')[-2]\n",
    "        iters = modelo.split('_')[-1]\n",
    "        energy = item[1].energia\n",
    "        trace = go.Bar({\n",
    "                        'x': [topics],\n",
    "                        'y': [energy],\n",
    "                        'name': f'gensim_{topics}_{iters}',\n",
    "                        'marker': {'color': '#086788'}\n",
    "        })\n",
    "        traces.append(trace)\n",
    "    iterable_mallet = mallet_stock.iterrows()\n",
    "    for item in iterable_mallet:\n",
    "        modelo = item[0]\n",
    "        modelo = modelo.strip('.model')\n",
    "        topics = modelo.split('_')[-2]\n",
    "        iters = modelo.split('_')[-1]\n",
    "        energy = item[1].energia\n",
    "        trace = go.Bar({\n",
    "                        'x': [topics],\n",
    "                        'y': [energy],\n",
    "                        'name': f'mallet_{topics}_{iters}',\n",
    "                        'marker': {'color': '#AE3922'}\n",
    "        })\n",
    "        traces.append(trace)\n",
    "    return traces\n",
    "\n",
    "layout = go.Layout({'title': stock})\n",
    "\n",
    "traces = graph_energies(energy_lda_df,energy_mallet_df,stock)\n",
    "\n",
    "fig = go.Figure(traces, layout)\n",
    "\n",
    "iplot(fig)"
   ]
  },
  {
   "cell_type": "markdown",
   "metadata": {},
   "source": [
    "# Visualización pyLDAvis"
   ]
  },
  {
   "cell_type": "code",
   "execution_count": 32,
   "metadata": {},
   "outputs": [],
   "source": [
    "import pyLDAvis.gensim as vis\n",
    "import pyLDAvis\n",
    "from os import listdir\n",
    "pyLDAvis.enable_notebook()"
   ]
  },
  {
   "cell_type": "code",
   "execution_count": 33,
   "metadata": {},
   "outputs": [],
   "source": [
    "lista_gensim = listdir('../Modelos/Gensim')\n",
    "lista_mallet = listdir('../Modelos/Mallet')\n",
    "mds = ['PCoA', 'tsne']"
   ]
  },
  {
   "cell_type": "code",
   "execution_count": 34,
   "metadata": {},
   "outputs": [],
   "source": [
    "def vis_gensim(model, mds):\n",
    "    tuple_ = pickle.load(open(f'../Modelos/Gensim/{model}','rb'))\n",
    "    model = tuple_[0]\n",
    "    corpus = tuple_[3]\n",
    "    vocab = tuple_[2]\n",
    "    topic_data=vis.prepare(model,corpus,vocab, mds=mds)\n",
    "    pyLDAvis.display(topic_data)\n",
    "    return pyLDAvis.display(topic_data)"
   ]
  },
  {
   "cell_type": "code",
   "execution_count": 35,
   "metadata": {},
   "outputs": [],
   "source": [
    "def vis_mallet(model, mds):\n",
    "    tuple_ = pickle.load(open(f'../Modelos/Mallet/{model}','rb'))\n",
    "    model = tuple_[0]\n",
    "    model = malletmodel2ldamodel(model)\n",
    "    corpus = tuple_[3]\n",
    "    vocab = tuple_[2]\n",
    "    topic_data=vis.prepare(model,corpus,vocab, mds=mds)\n",
    "    return pyLDAvis.display(topic_data)"
   ]
  },
  {
   "cell_type": "code",
   "execution_count": 36,
   "metadata": {},
   "outputs": [],
   "source": [
    "from ipywidgets import *"
   ]
  },
  {
   "cell_type": "code",
   "execution_count": 37,
   "metadata": {},
   "outputs": [],
   "source": [
    "widget_gensim = interactive(vis_gensim,{'manual':True},model=lista_gensim, mds=mds)\n",
    "widget_mallet = interactive(vis_gensim,{'manual':True},model=lista_gensim, mds=mds, )"
   ]
  },
  {
   "cell_type": "code",
   "execution_count": 38,
   "metadata": {},
   "outputs": [
    {
     "data": {
      "application/vnd.jupyter.widget-view+json": {
       "model_id": "82034a737a664085906e59da0e799879",
       "version_major": 2,
       "version_minor": 0
      },
      "text/plain": [
       "interactive(children=(Dropdown(description='model', options=('Todos_topics4_iters350.model', 'Todos_topics9_it…"
      ]
     },
     "metadata": {},
     "output_type": "display_data"
    }
   ],
   "source": [
    "widget_gensim"
   ]
  },
  {
   "cell_type": "code",
   "execution_count": 46,
   "metadata": {},
   "outputs": [],
   "source": [
    "widget_gensim.result"
   ]
  },
  {
   "cell_type": "code",
   "execution_count": 43,
   "metadata": {},
   "outputs": [
    {
     "data": {
      "application/vnd.jupyter.widget-view+json": {
       "model_id": "3ce59213bbd14e4c8564a57aa5d28914",
       "version_major": 2,
       "version_minor": 0
      },
      "text/plain": [
       "interactive(children=(Dropdown(description='model', index=16, options=('Todos_topics4_iters350.model', 'Todos_…"
      ]
     },
     "metadata": {},
     "output_type": "display_data"
    }
   ],
   "source": [
    "widget_mallet"
   ]
  },
  {
   "cell_type": "code",
   "execution_count": 45,
   "metadata": {},
   "outputs": [
    {
     "data": {
      "text/html": [
       "\n",
       "<link rel=\"stylesheet\" type=\"text/css\" href=\"https://cdn.rawgit.com/bmabey/pyLDAvis/files/ldavis.v1.0.0.css\">\n",
       "\n",
       "\n",
       "<div id=\"ldavis_el133461401345653142562906469774\"></div>\n",
       "<script type=\"text/javascript\">\n",
       "\n",
       "var ldavis_el133461401345653142562906469774_data = {\"mdsDat\": {\"x\": [-187.10067749023438, 42.79530715942383, 55.16268539428711, -174.73333740234375], \"y\": [-284.1713562011719, -296.5240478515625, -66.62882232666016, -54.276145935058594], \"topics\": [1, 2, 3, 4], \"cluster\": [1, 1, 1, 1], \"Freq\": [72.22146606445312, 24.55132293701172, 1.802462100982666, 1.424747109413147]}, \"tinfo\": {\"Category\": [\"Default\", \"Default\", \"Default\", \"Default\", \"Default\", \"Default\", \"Default\", \"Default\", \"Default\", \"Default\", \"Default\", \"Default\", \"Default\", \"Default\", \"Default\", \"Default\", \"Default\", \"Default\", \"Default\", \"Default\", \"Default\", \"Default\", \"Default\", \"Default\", \"Default\", \"Default\", \"Default\", \"Default\", \"Default\", \"Default\", \"Topic1\", \"Topic1\", \"Topic1\", \"Topic1\", \"Topic1\", \"Topic1\", \"Topic1\", \"Topic1\", \"Topic1\", \"Topic1\", \"Topic1\", \"Topic1\", \"Topic1\", \"Topic1\", \"Topic1\", \"Topic1\", \"Topic1\", \"Topic1\", \"Topic1\", \"Topic1\", \"Topic1\", \"Topic1\", \"Topic1\", \"Topic1\", \"Topic1\", \"Topic1\", \"Topic1\", \"Topic1\", \"Topic1\", \"Topic1\", \"Topic1\", \"Topic1\", \"Topic1\", \"Topic1\", \"Topic1\", \"Topic1\", \"Topic1\", \"Topic1\", \"Topic1\", \"Topic1\", \"Topic1\", \"Topic1\", \"Topic1\", \"Topic1\", \"Topic1\", \"Topic1\", \"Topic1\", \"Topic1\", \"Topic1\", \"Topic2\", \"Topic2\", \"Topic2\", \"Topic2\", \"Topic2\", \"Topic2\", \"Topic2\", \"Topic2\", \"Topic2\", \"Topic2\", \"Topic2\", \"Topic2\", \"Topic2\", \"Topic2\", \"Topic2\", \"Topic2\", \"Topic2\", \"Topic2\", \"Topic2\", \"Topic2\", \"Topic2\", \"Topic2\", \"Topic2\", \"Topic2\", \"Topic2\", \"Topic2\", \"Topic2\", \"Topic2\", \"Topic2\", \"Topic2\", \"Topic2\", \"Topic2\", \"Topic2\", \"Topic2\", \"Topic3\", \"Topic3\", \"Topic3\", \"Topic3\", \"Topic3\", \"Topic3\", \"Topic3\", \"Topic3\", \"Topic3\", \"Topic3\", \"Topic3\", \"Topic3\", \"Topic3\", \"Topic3\", \"Topic3\", \"Topic3\", \"Topic3\", \"Topic3\", \"Topic3\", \"Topic3\", \"Topic3\", \"Topic3\", \"Topic3\", \"Topic3\", \"Topic3\", \"Topic3\", \"Topic3\", \"Topic3\", \"Topic3\", \"Topic3\", \"Topic3\", \"Topic3\", \"Topic3\", \"Topic3\", \"Topic3\", \"Topic3\", \"Topic3\", \"Topic3\", \"Topic3\", \"Topic3\", \"Topic3\", \"Topic3\", \"Topic3\", \"Topic3\", \"Topic3\", \"Topic3\", \"Topic3\", \"Topic3\", \"Topic3\", \"Topic3\", \"Topic3\", \"Topic4\", \"Topic4\", \"Topic4\", \"Topic4\", \"Topic4\", \"Topic4\", \"Topic4\", \"Topic4\", \"Topic4\", \"Topic4\", \"Topic4\", \"Topic4\", \"Topic4\", \"Topic4\", \"Topic4\", \"Topic4\", \"Topic4\", \"Topic4\", \"Topic4\", \"Topic4\", \"Topic4\", \"Topic4\", \"Topic4\", \"Topic4\", \"Topic4\", \"Topic4\", \"Topic4\", \"Topic4\", \"Topic4\", \"Topic4\", \"Topic4\", \"Topic4\", \"Topic4\", \"Topic4\", \"Topic4\", \"Topic4\", \"Topic4\", \"Topic4\", \"Topic4\", \"Topic4\", \"Topic4\", \"Topic4\", \"Topic4\", \"Topic4\", \"Topic4\", \"Topic4\", \"Topic4\", \"Topic4\", \"Topic4\", \"Topic4\", \"Topic4\", \"Topic4\"], \"Freq\": [1477.0, 1299.0, 1281.0, 1270.0, 1170.0, 592.0, 592.0, 330.0, 330.0, 287.0, 287.0, 287.0, 588.0, 277.0, 276.0, 207.0, 207.0, 206.0, 72.0, 155.0, 156.0, 50.0, 117.0, 41.0, 24.0, 24.0, 73.0, 19.0, 31.0, 30.0, 144.30596923828125, 103.74343872070312, 99.11478424072266, 93.32838439941406, 81.51206970214844, 76.80235290527344, 68.04625701904297, 68.15184783935547, 63.58565139770508, 58.783790588378906, 56.691184997558594, 55.189369201660156, 49.08729553222656, 48.391937255859375, 45.031131744384766, 44.19642639160156, 43.645957946777344, 42.61922836303711, 46.376617431640625, 41.722312927246094, 41.57936477661133, 40.83368682861328, 40.54344940185547, 39.94078063964844, 39.91077423095703, 39.956172943115234, 39.58097839355469, 38.4638557434082, 38.5316276550293, 37.87799835205078, 94.53936004638672, 91.17617797851562, 115.76640319824219, 72.57593536376953, 47.61231994628906, 42.76869201660156, 78.40477752685547, 65.24246978759766, 48.70210266113281, 65.68991088867188, 295.00958251953125, 48.01628112792969, 71.73020935058594, 70.65313720703125, 66.15851593017578, 65.77433013916016, 65.77433013916016, 59.73009490966797, 59.694175720214844, 1280.87353515625, 1476.2430419921875, 1262.6680908203125, 1291.874267578125, 1157.9696044921875, 7.095686912536621, 7.095686912536621, 7.095686912536621, 7.095686912536621, 7.095686912536621, 7.095686912536621, 7.095686912536621, 7.095686912536621, 7.095686912536621, 7.095686912536621, 551.8006591796875, 551.8006591796875, 256.25115966796875, 256.25115966796875, 256.25115966796875, 6.8151021003723145, 290.2422180175781, 290.2422180175781, 216.08389282226562, 215.92002868652344, 139.99220275878906, 139.99220275878906, 138.86395263671875, 0.3920819163322449, 0.3643101155757904, 83.49200439453125, 82.9427719116211, 291.1665344238281, 9.057666778564453, 3.2999696731567383, 3.2999696731567383, 3.2999696731567383, 3.2999696731567383, 3.2999696731567383, 3.2999696731567383, 3.2999696731567383, 3.2999696731567383, 3.2999696731567383, 3.2999696731567383, 3.295264959335327, 3.2952651977539062, 1.4976904392242432, 1.0202394723892212, 1.0066756010055542, 1.0066756010055542, 1.0066756010055542, 1.004599690437317, 1.004599690437317, 1.004599690437317, 1.0303962230682373, 0.886025607585907, 0.886025607585907, 0.886025607585907, 0.886025607585907, 0.7599541544914246, 0.7599541544914246, 0.7599541544914246, 0.7599541544914246, 0.7599541544914246, 0.7599541544914246, 0.7599541544914246, 0.7599541544914246, 4.129302024841309, 3.966400146484375, 3.966400146484375, 1.5908033847808838, 3.683847427368164, 1.5851129293441772, 2.062288284301758, 1.7060960531234741, 2.124586343765259, 1.21258544921875, 1.4160757064819336, 1.4068591594696045, 1.3350054025650024, 1.3350054025650024, 1.3243659734725952, 1.2499899864196777, 1.2718114852905273, 1.2708592414855957, 1.3148808479309082, 1.3148808479309082, 1.3148808479309082, 1.3148808479309082, 0.4377565085887909, 0.7345707416534424, 0.4084715247154236, 0.9560843110084534, 1.2731730937957764, 0.5407566428184509, 0.362314373254776, 0.28250518441200256, 0.27200716733932495, 0.2928963601589203, 0.2607741951942444, 0.29231444001197815, 0.291644811630249, 0.2589677572250366, 0.2552775740623474, 0.23217283189296722, 0.45311811566352844, 0.22729571163654327, 0.23488491773605347, 0.20984001457691193, 0.2684304118156433, 0.277033269405365, 0.25567275285720825, 0.19899123907089233, 0.18983036279678345, 0.18603046238422394, 0.26133543252944946, 0.6073629856109619, 1.036750078201294, 1.3161025047302246, 0.6739334464073181, 0.393122136592865, 0.5725130438804626, 0.5081437230110168, 0.5430582761764526, 0.4368429183959961, 0.5771737694740295, 0.8558068871498108, 0.5541063547134399, 0.6676087379455566, 0.6676087379455566, 0.5181645154953003, 0.6619423031806946, 0.46341943740844727, 0.44209399819374084, 0.4617919325828552, 0.4563114047050476, 0.4573923647403717], \"Term\": [\"minutos_editora_s.l.\", \"mi\\u00e9rcoles\", \"\\u00a9_tiempoytemperatura_e_foreca\", \"ma\\u00f1ana\", \"jueves\", \"alejandro_sanz_grad\\u00faa\", \"manuela_hija_jaydy_michel\", \"pidi\\u00f3_violada_tensi\\u00f3n_entrevista\", \"mamen_mendiz\\u00e1bal_abogado_manada\", \"to\\u00f1i\", \"desir\\u00e9e\", \"caso_ni\\u00f1as_alc\\u00e0sser_miriam\", \"y\", \"trucos_caseros_refrescar_casa\", \"aire_acondicionado\", \"duro_mensaje_andrea_janeiro\", \"padre_jesul\\u00edn_boda_bel\\u00e9n\", \"esteban\", \"euros\", \"carabela_portuguesa_s\\u00edntomas\", \"tratamiento\", \"puede\", \"m\\u00e1s\", \"n\\u00famero\", \"secci\\u00f3n_loter\\u00edas_20minutos\", \"e_pueden_comprobar\", \"a\\u00f1os\", \"n\\u00fameros_premiados_loter\\u00edas_semana\", \"mes\", \"semana\", \"h\", \"pp\", \"gobierno\", \"psoe\", \"partido\", \"vox\", \"s\\u00e1nchez\", \"madrid\", \"presidente\", \"elecciones\", \"podemos\", \"congreso\", \"electoral\", \"caso\", \"cs\", \"personas\", \"diputados\", \"acuerdo\", \"todo\", \"campa\\u00f1a\", \"l\\u00edder\", \"votos\", \"voto\", \"mujeres\", \"candidato\", \"lunes\", \"partidos\", \"pedro_s\\u00e1nchez\", \"a\\u00f1o\", \"pol\\u00edtica\", \"e\", \"o\", \"m\\u00e1s\", \"a\\u00f1os\", \"d\\u00eda\", \"horas\", \"ciudadanos\", \"euros\", \"puede\", \"espa\\u00f1a\", \"y\", \"todos\", \"tratamiento\", \"carabela_portuguesa_s\\u00edntomas\", \"esteban\", \"duro_mensaje_andrea_janeiro\", \"padre_jesul\\u00edn_boda_bel\\u00e9n\", \"aire_acondicionado\", \"trucos_caseros_refrescar_casa\", \"\\u00a9_tiempoytemperatura_e_foreca\", \"minutos_editora_s.l.\", \"ma\\u00f1ana\", \"mi\\u00e9rcoles\", \"jueves\", \"premio_gordo_acertante\", \"unido_portugal_austria_b\\u00e9lgica\", \"estrellas_n\\u00fameros\", \"n\\u00fameros_premiados_euromillones\", \"marcar_n\\u00fameros\", \"sorteo_euromillones_celebr\\u00f3\", \"febrero_par\\u00eds\", \"n\\u00fameros_categor\\u00edas_reciben\", \"suiza_francia_irlanda_reino\", \"precio_boleto\", \"alejandro_sanz_grad\\u00faa\", \"manuela_hija_jaydy_michel\", \"caso_ni\\u00f1as_alc\\u00e0sser_miriam\", \"to\\u00f1i\", \"desir\\u00e9e\", \"luxemburgo\", \"pidi\\u00f3_violada_tensi\\u00f3n_entrevista\", \"mamen_mendiz\\u00e1bal_abogado_manada\", \"trucos_caseros_refrescar_casa\", \"aire_acondicionado\", \"duro_mensaje_andrea_janeiro\", \"padre_jesul\\u00edn_boda_bel\\u00e9n\", \"esteban\", \"pic.twitter.com/yrnkh0wtyo\", \"chen\", \"carabela_portuguesa_s\\u00edntomas\", \"tratamiento\", \"y\", \"espa\\u00f1a\", \"apuestas_apuestas_precio\", \"n\\u00fameros_apuesta_modalidad_m\\u00faltiple\", \"apuestas_boleto_deber\\u00e1_escoger\", \"apuestas_modalidad_simple_jugador\", \"euros_convierte_sorteo\", \"jugar_necesario_realizar_m\\u00ednimo\", \"llegar_n\\u00fameros_apuesta\", \"econ\\u00f3mico_organizados_lae\", \"sorteo_bonoloto_celebra_lunes\", \"regulado_loter\\u00edas\", \"podr\\u00e1_escoger\", \"s\\u00e1bados\", \"serie_premiados\", \"sorteo_loter\\u00eda_nacional\", \"d\\u00e9cimo_3\", \"s\\u00e1bados_especiales_cobra_12\", \"s\\u00e1bados_ordinarios_precio_incrementa\", \"apuestas_lae\", \"juegos_azar_mejor\", \"compromiso_loter\\u00edas\", \"sorteos_extraordinarios\", \"coincide_boleto\", \"55_recaudaci\\u00f3n_destina_categor\\u00edas\", \"gordo_primitiva_juega_domingos\", \"destinado_premio\", \"extracciones_quinta_premios_20.000\", \"ofrece_premios_2.000\", \"premiado_primera_extracci\\u00f3n\", \"primera_extracci\\u00f3n\", \"serie_300.000\", \"consecutivos_cup\\u00f3n_n\\u00famero\", \"consecutivos_cupones_n\\u00fameros\", \"cup\\u00f3n_once_ofrece\", \"n\\u00fameros_premiados_loter\\u00edas_semana\", \"secci\\u00f3n_loter\\u00edas_20minutos\", \"e_pueden_comprobar\", \"sorteo\", \"euros\", \"serie\", \"puede\", \"n\\u00famero\", \"y\", \"cifras\", \"carabela_portuguesa_s\\u00edntomas\", \"tratamiento\", \"padre_jesul\\u00edn_boda_bel\\u00e9n\", \"duro_mensaje_andrea_janeiro\", \"esteban\", \"m\\u00e1s\", \"trucos_caseros_refrescar_casa\", \"aire_acondicionado\", \"s\\u00e1bados_sorteo\", \"apuestas_celebra\", \"sorteo_primitiva\", \"mayor_aceptaci\\u00f3n\", \"intervalos_nubosos\", \"oeste\", \"pirineos\", \"peninsular\", \"loter\\u00edas\", \"noroeste\", \"cant\\u00e1brico\", \"nordeste\", \"nuboso\", \"valle_ebro\", \"cota_nieve\", \"suroeste\", \"chubascos\", \"temperaturas_m\\u00ednimas\", \"poco_nuboso\", \"meseta_norte\", \"litoral\", \"pocos_cambios\", \"sureste\", \"litoral_mediterr\\u00e1neo\", \"probables\", \"\\u00e1rea_mediterr\\u00e1nea\", \"persistentes\", \"grados_cent\\u00edgrados\", \"lluvias_d\\u00e9biles\", \"intervalos_fuerte\", \"vientos\", \"precipitaciones\", \"temperaturas\", \"norte\", \"grados\", \"m\\u00e1ximas\", \"pen\\u00ednsula\", \"lluvias\", \"viento\", \"aemet\", \"sur\", \"n\\u00fameros_premiados_loter\\u00edas_semana\", \"mitad\", \"secci\\u00f3n_loter\\u00edas_20minutos\", \"e_pueden_comprobar\", \"baleares\", \"semana\", \"zonas\", \"metros\", \"galicia\", \"canarias\", \"resto\"], \"Total\": [1477.0, 1299.0, 1281.0, 1270.0, 1170.0, 592.0, 592.0, 330.0, 330.0, 287.0, 287.0, 287.0, 588.0, 277.0, 276.0, 207.0, 207.0, 206.0, 72.0, 155.0, 156.0, 50.0, 117.0, 41.0, 24.0, 24.0, 73.0, 19.0, 31.0, 30.0, 144.49066162109375, 103.92807006835938, 99.2994155883789, 93.51302337646484, 81.69670104980469, 76.98699951171875, 68.23090362548828, 68.34202575683594, 63.77028274536133, 58.968421936035156, 56.87583541870117, 55.374000549316406, 49.27194595336914, 48.58281326293945, 45.215763092041016, 44.381065368652344, 43.83079528808594, 42.80386734008789, 46.57939529418945, 41.906944274902344, 41.76399612426758, 41.018348693847656, 40.72808074951172, 40.12541198730469, 40.09540557861328, 40.14117431640625, 39.76566696166992, 38.64848709106445, 38.717262268066406, 38.06262969970703, 95.0033950805664, 91.79562377929688, 117.27470397949219, 73.66998291015625, 47.95307922363281, 43.03014373779297, 81.3501205444336, 72.61893463134766, 50.933563232421875, 75.1223373413086, 588.5508422851562, 51.402099609375, 156.10618591308594, 155.587646484375, 206.37220764160156, 207.1269989013672, 207.1269989013672, 276.9464416503906, 277.07537841796875, 1281.1136474609375, 1477.181396484375, 1270.31787109375, 1299.9827880859375, 1170.708251953125, 7.335784912109375, 7.335784912109375, 7.335784912109375, 7.335784912109375, 7.335784912109375, 7.335784912109375, 7.335784912109375, 7.335784912109375, 7.335784912109375, 7.335784912109375, 592.1069946289062, 592.1069946289062, 287.2274475097656, 287.2274475097656, 287.2274475097656, 7.701138973236084, 330.1244812011719, 330.1244812011719, 277.07537841796875, 276.9464416503906, 207.1269989013672, 207.1269989013672, 206.37220764160156, 0.6321796178817749, 0.6124245524406433, 155.587646484375, 156.10618591308594, 588.5508422851562, 75.1223373413086, 3.6620051860809326, 3.6620051860809326, 3.6620051860809326, 3.6620051860809326, 3.6620051860809326, 3.6620051860809326, 3.6620051860809326, 3.6620051860809326, 3.6620051860809326, 3.6620051860809326, 3.6761999130249023, 3.6811416149139404, 1.8595130443572998, 1.3822968006134033, 1.368721604347229, 1.368721604347229, 1.368721604347229, 1.3666059970855713, 1.3666059970855713, 1.3666059970855713, 1.403476595878601, 1.2481540441513062, 1.2481540441513062, 1.2481540441513062, 1.2481540441513062, 1.121776819229126, 1.121776819229126, 1.121776819229126, 1.121776819229126, 1.121776819229126, 1.121776819229126, 1.121776819229126, 1.121776819229126, 19.909549713134766, 24.846336364746094, 24.846336364746094, 6.873751640319824, 72.61893463134766, 13.495986938476562, 50.933563232421875, 41.567787170410156, 588.5508422851562, 11.227664947509766, 155.587646484375, 156.10618591308594, 207.1269989013672, 207.1269989013672, 206.37220764160156, 117.27470397949219, 277.07537841796875, 276.9464416503906, 1.6833289861679077, 1.6833289861679077, 1.6833289861679077, 1.6833289861679077, 0.8044512271881104, 1.372847557067871, 0.7757918834686279, 1.8734865188598633, 2.61975359916687, 1.131899356842041, 0.7981145977973938, 0.6495773196220398, 0.6383503675460815, 0.696351170539856, 0.6276029348373413, 0.7035296559333801, 0.7060561180114746, 0.6275128126144409, 0.6217002272605896, 0.6001644134521484, 1.1811120510101318, 0.5936476588249207, 0.6305177211761475, 0.5782837867736816, 0.7586936950683594, 0.7856338620185852, 0.7264631986618042, 0.5779569149017334, 0.5566326379776001, 0.5526962876319885, 0.7993799448013306, 2.0166873931884766, 3.9527156352996826, 5.614015579223633, 2.8200228214263916, 1.3751800060272217, 2.656022310256958, 2.19368314743042, 2.466636896133423, 1.7530076503753662, 4.762017726898193, 19.909549713134766, 8.746057510375977, 24.846336364746094, 24.846336364746094, 9.76449203491211, 30.12251853942871, 7.963021755218506, 6.730470657348633, 9.651155471801758, 12.841824531555176, 18.2335205078125], \"loglift\": [30.0, 29.0, 28.0, 27.0, 26.0, 25.0, 24.0, 23.0, 22.0, 21.0, 20.0, 19.0, 18.0, 17.0, 16.0, 15.0, 14.0, 13.0, 12.0, 11.0, 10.0, 9.0, 8.0, 7.0, 6.0, 5.0, 4.0, 3.0, 2.0, 1.0, 0.32420000433921814, 0.3237000107765198, 0.32359999418258667, 0.32350000739097595, 0.323199987411499, 0.3230000138282776, 0.32269999384880066, 0.32260000705718994, 0.32249999046325684, 0.322299987077713, 0.3222000002861023, 0.3221000134944916, 0.32170000672340393, 0.3215000033378601, 0.3212999999523163, 0.3212999999523163, 0.32120001316070557, 0.32109999656677246, 0.32109999656677246, 0.32100000977516174, 0.32100000977516174, 0.32089999318122864, 0.32089999318122864, 0.3208000063896179, 0.3208000063896179, 0.3208000063896179, 0.3208000063896179, 0.3206000030040741, 0.3206000030040741, 0.3206000030040741, 0.320499986410141, 0.31869998574256897, 0.3125, 0.31049999594688416, 0.3183000087738037, 0.31929999589920044, 0.28859999775886536, 0.218299999833107, 0.28060001134872437, 0.19130000472068787, -0.365200012922287, 0.2572999894618988, -0.4521999955177307, -0.46399998664855957, -0.8122000098228455, -0.8216999769210815, -0.8216999769210815, -1.2086000442504883, -1.2095999717712402, 1.4041999578475952, 1.4038000106811523, 1.3983999490737915, 1.3981000185012817, 1.3934999704360962, 1.3710999488830566, 1.3710999488830566, 1.3710999488830566, 1.3710999488830566, 1.3710999488830566, 1.3710999488830566, 1.3710999488830566, 1.3710999488830566, 1.3710999488830566, 1.3710999488830566, 1.333899974822998, 1.333899974822998, 1.2903000116348267, 1.2903000116348267, 1.2903000116348267, 1.2821999788284302, 1.2756999731063843, 1.2756999731063843, 1.1557999849319458, 1.155500054359436, 1.0126999616622925, 1.0126999616622925, 1.0082000494003296, 0.9266999959945679, 0.8849999904632568, 0.7818999886512756, 0.7720000147819519, 0.7006000280380249, -0.7110999822616577, 3.911900043487549, 3.911900043487549, 3.911900043487549, 3.911900043487549, 3.911900043487549, 3.911900043487549, 3.911900043487549, 3.911900043487549, 3.911900043487549, 3.911900043487549, 3.906599998474121, 3.9052999019622803, 3.7995998859405518, 3.7123000621795654, 3.7088000774383545, 3.7088000774383545, 3.7088000774383545, 3.7083001136779785, 3.7083001136779785, 3.7083001136779785, 3.7070000171661377, 3.67330002784729, 3.67330002784729, 3.67330002784729, 3.67330002784729, 3.6266000270843506, 3.6266000270843506, 3.6266000270843506, 3.6266000270843506, 3.6266000270843506, 3.6266000270843506, 3.6266000270843506, 3.6266000270843506, 2.4428999423980713, 2.1812000274658203, 2.1812000274658203, 2.552500009536743, 1.0347000360488892, 1.8743000030517578, 0.8093000054359436, 0.8228999972343445, -1.6081000566482544, 1.7904000282287598, -0.6833000183105469, -0.6931999921798706, -1.02839994430542, -1.02839994430542, -1.0326999425888062, -0.5253999829292297, -1.367799997329712, -1.3681000471115112, 4.0040998458862305, 4.0040998458862305, 4.0040998458862305, 4.0040998458862305, 3.642699956893921, 3.6257998943328857, 3.6096999645233154, 3.5785000324249268, 3.529599905014038, 3.512500047683716, 3.461400032043457, 3.418600082397461, 3.398099899291992, 3.3850998878479004, 3.3729000091552734, 3.3729000091552734, 3.367000102996826, 3.3661000728607178, 3.3610999584198, 3.301500082015991, 3.293100118637085, 3.291100025177002, 3.263700008392334, 3.237499952316284, 3.2121999263763428, 3.2088000774383545, 3.206899881362915, 3.1849000453948975, 3.1754000186920166, 3.1623001098632812, 3.1331000328063965, 3.051100015640259, 2.912899971008301, 2.800600051879883, 2.8197999000549316, 2.999000072479248, 2.716599941253662, 2.788599967956543, 2.737799882888794, 2.8617000579833984, 2.140899896621704, 1.1043000221252441, 1.4922000169754028, 0.6344000101089478, 0.6344000101089478, 1.315000057220459, 0.4332999885082245, 1.4071999788284302, 1.5283000469207764, 1.2115000486373901, 0.9139000177383423, 0.5656999945640564], \"logprob\": [30.0, 29.0, 28.0, 27.0, 26.0, 25.0, 24.0, 23.0, 22.0, 21.0, 20.0, 19.0, 18.0, 17.0, 16.0, 15.0, 14.0, 13.0, 12.0, 11.0, 10.0, 9.0, 8.0, 7.0, 6.0, 5.0, 4.0, 3.0, 2.0, 1.0, -5.918399810791016, -6.2484002113342285, -6.294099807739258, -6.3541998863220215, -6.48960018157959, -6.549099922180176, -6.670199871063232, -6.668600082397461, -6.73799991607666, -6.816500186920166, -6.852700233459473, -6.8796000480651855, -6.996699810028076, -7.011000156402588, -7.083000183105469, -7.1016998291015625, -7.114200115203857, -7.138000011444092, -7.053500175476074, -7.159299850463867, -7.162700176239014, -7.180799961090088, -7.188000202178955, -7.202899932861328, -7.203700065612793, -7.202600002288818, -7.211999893188477, -7.240600109100342, -7.238900184631348, -7.25600004196167, -6.341300010681152, -6.377500057220459, -6.138800144195557, -6.6057000160217285, -7.027200222015381, -7.134500026702881, -6.528500080108643, -6.712200164794922, -7.0046000480651855, -6.705399990081787, -5.2032999992370605, -7.018799781799316, -6.617400169372559, -6.632599830627441, -6.698299884796143, -6.704100131988525, -6.704100131988525, -6.80049991607666, -6.80109977722168, -2.656100034713745, -2.5141000747680664, -2.6703999042510986, -2.6475000381469727, -2.7569000720977783, -7.851900100708008, -7.851900100708008, -7.851900100708008, -7.851900100708008, -7.851900100708008, -7.851900100708008, -7.851900100708008, -7.851900100708008, -7.851900100708008, -7.851900100708008, -3.498199939727783, -3.498199939727783, -4.265200138092041, -4.265200138092041, -4.265200138092041, -7.892199993133545, -4.140699863433838, -4.140699863433838, -4.435699939727783, -4.436500072479248, -4.869800090789795, -4.869800090789795, -4.877900123596191, -10.747699737548828, -10.821100234985352, -5.386600017547607, -5.393199920654297, -4.137499809265137, -7.607800006866455, -6.005799770355225, -6.005799770355225, -6.005799770355225, -6.005799770355225, -6.005799770355225, -6.005799770355225, -6.005799770355225, -6.005799770355225, -6.005799770355225, -6.005799770355225, -6.007299900054932, -6.007299900054932, -6.79580020904541, -7.179699897766113, -7.1930999755859375, -7.1930999755859375, -7.1930999755859375, -7.195199966430664, -7.195199966430664, -7.195199966430664, -7.1697998046875, -7.320799827575684, -7.320799827575684, -7.320799827575684, -7.320799827575684, -7.474299907684326, -7.474299907684326, -7.474299907684326, -7.474299907684326, -7.474299907684326, -7.474299907684326, -7.474299907684326, -7.474299907684326, -5.781599998474121, -5.821899890899658, -5.821899890899658, -6.735499858856201, -5.8958001136779785, -6.739099979400635, -6.475900173187256, -6.665500164031982, -6.446199893951416, -7.006999969482422, -6.851900100708008, -6.858399868011475, -6.910799980163574, -6.910799980163574, -6.918799877166748, -6.976600170135498, -6.9593000411987305, -6.960100173950195, -6.690800189971924, -6.690800189971924, -6.690800189971924, -6.690800189971924, -7.7906999588012695, -7.273099899291992, -7.859899997711182, -7.009500026702881, -6.723100185394287, -7.579400062561035, -7.979800224304199, -8.228699684143066, -8.266500473022461, -8.192500114440918, -8.308699607849121, -8.194499969482422, -8.196800231933594, -8.315600395202637, -8.329999923706055, -8.42490005493164, -7.756199836730957, -8.446100234985352, -8.413299560546875, -8.526000022888184, -8.279800415039062, -8.248200416564941, -8.328499794006348, -8.579099655151367, -8.626199722290039, -8.646400451660156, -8.306500434875488, -7.463200092315674, -6.928500175476074, -6.689899921417236, -7.3592000007629395, -7.898200035095215, -7.522299766540527, -7.641600131988525, -7.575099945068359, -7.792799949645996, -7.514200210571289, -7.120299816131592, -7.554999828338623, -7.368599891662598, -7.368599891662598, -7.622099876403809, -7.377200126647949, -7.733699798583984, -7.780799865722656, -7.737199783325195, -7.749199867248535, -7.746799945831299]}, \"token.table\": {\"Topic\": [3, 1, 1, 1, 2, 3, 1, 2, 3, 3, 4, 3, 3, 1, 1, 3, 1, 4, 1, 1, 1, 1, 2, 3, 1, 1, 2, 1, 3, 1, 2, 3, 3, 1, 3, 3, 1, 3, 1, 2, 3, 1, 1, 2, 3, 3, 1, 1, 1, 2, 3, 4, 3, 1, 1, 1, 2, 1, 2, 3, 2, 1, 2, 3, 3, 3, 2, 1, 1, 3, 1, 4, 1, 1, 3, 1, 2, 3, 1, 3, 1, 4, 1, 4, 1, 1, 2, 1, 1, 1, 2, 3, 1, 2, 2, 4, 1, 2, 1, 3, 1, 1, 2, 1, 4, 1, 2, 1, 1, 3, 1, 4, 1, 4, 1, 3, 3, 2, 2, 1, 3, 4, 1, 4, 3, 1, 2, 3, 1, 1, 1, 1, 4, 1, 4, 1, 1, 2, 3, 1, 3, 1, 1, 2, 1, 4, 3, 2, 1, 3, 1, 1, 3, 3, 1, 1, 2, 3, 4, 1, 2, 3, 4, 1, 3, 3, 3, 1, 3, 3, 2, 3, 4, 3, 2, 1, 4, 3, 3, 3, 4, 1, 1, 4, 1, 1, 2, 1, 2, 1, 2, 3, 1, 2, 3, 2, 1, 4, 1, 1, 1, 1, 2, 3, 1, 2], \"Freq\": [0.8011831641197205, 1.004582166671753, 0.5704481601715088, 0.2166483849287033, 0.7799341678619385, 0.0036108065396547318, 0.06755536049604416, 0.9322639107704163, 0.8192232847213745, 0.8192232847213745, 0.5940609574317932, 0.7317398190498352, 0.8192232847213745, 1.0073026418685913, 0.9909056425094604, 0.013574049808084965, 0.9217069149017334, 0.10241188108921051, 1.0022205114364624, 0.9344466328620911, 0.9976205229759216, 0.4563344419002533, 0.5334613919258118, 0.006427245680242777, 0.9880037307739258, 0.10792840272188187, 0.8912796974182129, 0.8906571269035339, 0.08906571567058563, 0.9588184952735901, 0.03687763586640358, 0.8011831641197205, 0.7317398190498352, 0.9932458996772766, 0.8914428949356079, 0.8914428949356079, 0.9952281713485718, 0.8914428949356079, 0.10792840272188187, 0.8912796974182129, 0.8011831641197205, 1.003860354423523, 0.31864508986473083, 0.6759138107299805, 0.004827955737709999, 0.7306087613105774, 1.0009784698486328, 0.9999642372131348, 0.5634633302688599, 0.24148429930210114, 0.16098952293395996, 0.04024738073348999, 0.8192232847213745, 1.000535488128662, 0.9944807291030884, 0.8785669207572937, 0.11980457603931427, 0.31981050968170166, 0.6735402941703796, 0.0048456136137247086, 0.9542264342308044, 0.8950833678245544, 0.0550820529460907, 0.0550820529460907, 0.8192232847213745, 0.8914428949356079, 0.9542264342308044, 0.9325308203697205, 0.9969847202301025, 0.8011831641197205, 0.7092140913009644, 0.3546070456504822, 0.9966042041778564, 0.9992994666099548, 0.7317398190498352, 0.01110438909381628, 0.9891448020935059, 0.8192232847213745, 0.8466597199440002, 0.8192232847213745, 0.9117087125778198, 0.4558543562889099, 0.3817152976989746, 0.3817152976989746, 0.9964830279350281, 0.12985092401504517, 0.9089564681053162, 1.0056508779525757, 0.9949953556060791, 0.11813725531101227, 0.8784565329551697, 0.0030291604343801737, 0.06755536049604416, 0.9322639107704163, 0.9542264342308044, 0.5940609574317932, 0.006297636311501265, 0.994239330291748, 0.9650360345840454, 0.032167866826057434, 0.8914681077003479, 0.0006769649335183203, 0.9992002248764038, 0.9146978259086609, 0.11433722823858261, 0.0061539276503026485, 0.9938592910766602, 0.9968745112419128, 0.9891306161880493, 0.008526988327503204, 0.7271775007247925, 0.8834707736968994, 0.7125024795532227, 0.17812561988830566, 0.9622836112976074, 0.04811418056488037, 0.8192232847213745, 0.9542264342308044, 0.9542264342308044, 0.7534072995185852, 0.2009086161851883, 0.05022715404629707, 0.9913326501846313, 0.7284129858016968, 0.8914428949356079, 0.31864508986473083, 0.6759138107299805, 0.004827955737709999, 1.00371253490448, 1.0058928728103638, 0.9832208752632141, 0.5337641835212708, 0.5337641835212708, 0.7530057430267334, 0.3765028715133667, 0.9914137721061707, 0.11813725531101227, 0.8784565329551697, 0.0030291604343801737, 1.0021830797195435, 0.8160600662231445, 0.9983545541763306, 1.0006921291351318, 0.9542264342308044, 0.4958626627922058, 0.4958626627922058, 0.8914428949356079, 0.9542264342308044, 1.0036022663116455, 0.8914428949356079, 0.9945138692855835, 0.9620375633239746, 0.03926683962345123, 0.8192232847213745, 0.9871928095817566, 0.5634633302688599, 0.24148429930210114, 0.16098952293395996, 0.04024738073348999, 0.7967461347579956, 0.1659887731075287, 0.033197756856679916, 0.033197756856679916, 0.8891531825065613, 0.14819219708442688, 0.8914428949356079, 0.5377752184867859, 0.7274048328399658, 0.2909619212150574, 0.8192232847213745, 0.9542264342308044, 0.7234336137771606, 0.5940609574317932, 0.7125163078308105, 0.9542264342308044, 0.8399800658226013, 0.20999501645565033, 0.8149645924568176, 0.7306087613105774, 0.7306087613105774, 0.5940609574317932, 0.9966158270835876, 0.7589718699455261, 0.25299063324928284, 0.9875611066818237, 0.9338139891624451, 0.05836337432265282, 0.10792840272188187, 0.8912796974182129, 0.4612245261669159, 0.5316893458366394, 0.006405896041542292, 0.21654756367206573, 0.7795712351799011, 0.0036091262008994818, 0.9542264342308044, 0.8108205795288086, 0.4054102897644043, 1.006676435470581, 0.9995526671409607, 1.0001689195632935, 0.5012311339378357, 0.49443477392196655, 0.0033981772139668465, 0.8790632486343384, 0.9999113082885742], \"Term\": [\"55_recaudaci\\u00f3n_destina_categor\\u00edas\", \"acuerdo\", \"aemet\", \"aire_acondicionado\", \"aire_acondicionado\", \"aire_acondicionado\", \"alejandro_sanz_grad\\u00faa\", \"alejandro_sanz_grad\\u00faa\", \"apuestas_apuestas_precio\", \"apuestas_boleto_deber\\u00e1_escoger\", \"apuestas_celebra\", \"apuestas_lae\", \"apuestas_modalidad_simple_jugador\", \"a\\u00f1o\", \"a\\u00f1os\", \"a\\u00f1os\", \"baleares\", \"baleares\", \"campa\\u00f1a\", \"canarias\", \"candidato\", \"carabela_portuguesa_s\\u00edntomas\", \"carabela_portuguesa_s\\u00edntomas\", \"carabela_portuguesa_s\\u00edntomas\", \"caso\", \"caso_ni\\u00f1as_alc\\u00e0sser_miriam\", \"caso_ni\\u00f1as_alc\\u00e0sser_miriam\", \"cifras\", \"cifras\", \"ciudadanos\", \"ciudadanos\", \"coincide_boleto\", \"compromiso_loter\\u00edas\", \"congreso\", \"consecutivos_cupones_n\\u00fameros\", \"consecutivos_cup\\u00f3n_n\\u00famero\", \"cs\", \"cup\\u00f3n_once_ofrece\", \"desir\\u00e9e\", \"desir\\u00e9e\", \"destinado_premio\", \"diputados\", \"duro_mensaje_andrea_janeiro\", \"duro_mensaje_andrea_janeiro\", \"duro_mensaje_andrea_janeiro\", \"d\\u00e9cimo_3\", \"d\\u00eda\", \"e\", \"e_pueden_comprobar\", \"e_pueden_comprobar\", \"e_pueden_comprobar\", \"e_pueden_comprobar\", \"econ\\u00f3mico_organizados_lae\", \"elecciones\", \"electoral\", \"espa\\u00f1a\", \"espa\\u00f1a\", \"esteban\", \"esteban\", \"esteban\", \"estrellas_n\\u00fameros\", \"euros\", \"euros\", \"euros\", \"euros_convierte_sorteo\", \"extracciones_quinta_premios_20.000\", \"febrero_par\\u00eds\", \"galicia\", \"gobierno\", \"gordo_primitiva_juega_domingos\", \"grados\", \"grados\", \"h\", \"horas\", \"juegos_azar_mejor\", \"jueves\", \"jueves\", \"jugar_necesario_realizar_m\\u00ednimo\", \"litoral\", \"llegar_n\\u00fameros_apuesta\", \"lluvias\", \"lluvias\", \"loter\\u00edas\", \"loter\\u00edas\", \"lunes\", \"luxemburgo\", \"luxemburgo\", \"l\\u00edder\", \"madrid\", \"mamen_mendiz\\u00e1bal_abogado_manada\", \"mamen_mendiz\\u00e1bal_abogado_manada\", \"mamen_mendiz\\u00e1bal_abogado_manada\", \"manuela_hija_jaydy_michel\", \"manuela_hija_jaydy_michel\", \"marcar_n\\u00fameros\", \"mayor_aceptaci\\u00f3n\", \"ma\\u00f1ana\", \"ma\\u00f1ana\", \"mes\", \"mes\", \"metros\", \"minutos_editora_s.l.\", \"minutos_editora_s.l.\", \"mitad\", \"mitad\", \"mi\\u00e9rcoles\", \"mi\\u00e9rcoles\", \"mujeres\", \"m\\u00e1s\", \"m\\u00e1s\", \"m\\u00e1ximas\", \"noroeste\", \"norte\", \"norte\", \"n\\u00famero\", \"n\\u00famero\", \"n\\u00fameros_apuesta_modalidad_m\\u00faltiple\", \"n\\u00fameros_categor\\u00edas_reciben\", \"n\\u00fameros_premiados_euromillones\", \"n\\u00fameros_premiados_loter\\u00edas_semana\", \"n\\u00fameros_premiados_loter\\u00edas_semana\", \"n\\u00fameros_premiados_loter\\u00edas_semana\", \"o\", \"oeste\", \"ofrece_premios_2.000\", \"padre_jesul\\u00edn_boda_bel\\u00e9n\", \"padre_jesul\\u00edn_boda_bel\\u00e9n\", \"padre_jesul\\u00edn_boda_bel\\u00e9n\", \"partido\", \"partidos\", \"pedro_s\\u00e1nchez\", \"peninsular\", \"peninsular\", \"pen\\u00ednsula\", \"pen\\u00ednsula\", \"personas\", \"pidi\\u00f3_violada_tensi\\u00f3n_entrevista\", \"pidi\\u00f3_violada_tensi\\u00f3n_entrevista\", \"pidi\\u00f3_violada_tensi\\u00f3n_entrevista\", \"podemos\", \"podr\\u00e1_escoger\", \"pol\\u00edtica\", \"pp\", \"precio_boleto\", \"precipitaciones\", \"precipitaciones\", \"premiado_primera_extracci\\u00f3n\", \"premio_gordo_acertante\", \"presidente\", \"primera_extracci\\u00f3n\", \"psoe\", \"puede\", \"puede\", \"regulado_loter\\u00edas\", \"resto\", \"secci\\u00f3n_loter\\u00edas_20minutos\", \"secci\\u00f3n_loter\\u00edas_20minutos\", \"secci\\u00f3n_loter\\u00edas_20minutos\", \"secci\\u00f3n_loter\\u00edas_20minutos\", \"semana\", \"semana\", \"semana\", \"semana\", \"serie\", \"serie\", \"serie_300.000\", \"serie_premiados\", \"sorteo\", \"sorteo\", \"sorteo_bonoloto_celebra_lunes\", \"sorteo_euromillones_celebr\\u00f3\", \"sorteo_loter\\u00eda_nacional\", \"sorteo_primitiva\", \"sorteos_extraordinarios\", \"suiza_francia_irlanda_reino\", \"sur\", \"sur\", \"s\\u00e1bados\", \"s\\u00e1bados_especiales_cobra_12\", \"s\\u00e1bados_ordinarios_precio_incrementa\", \"s\\u00e1bados_sorteo\", \"s\\u00e1nchez\", \"temperaturas\", \"temperaturas\", \"todo\", \"todos\", \"todos\", \"to\\u00f1i\", \"to\\u00f1i\", \"tratamiento\", \"tratamiento\", \"tratamiento\", \"trucos_caseros_refrescar_casa\", \"trucos_caseros_refrescar_casa\", \"trucos_caseros_refrescar_casa\", \"unido_portugal_austria_b\\u00e9lgica\", \"viento\", \"viento\", \"voto\", \"votos\", \"vox\", \"y\", \"y\", \"y\", \"zonas\", \"\\u00a9_tiempoytemperatura_e_foreca\"]}, \"R\": 30, \"lambda.step\": 0.01, \"plot.opts\": {\"xlab\": \"PC1\", \"ylab\": \"PC2\"}, \"topic.order\": [2, 4, 3, 1]};\n",
       "\n",
       "function LDAvis_load_lib(url, callback){\n",
       "  var s = document.createElement('script');\n",
       "  s.src = url;\n",
       "  s.async = true;\n",
       "  s.onreadystatechange = s.onload = callback;\n",
       "  s.onerror = function(){console.warn(\"failed to load library \" + url);};\n",
       "  document.getElementsByTagName(\"head\")[0].appendChild(s);\n",
       "}\n",
       "\n",
       "if(typeof(LDAvis) !== \"undefined\"){\n",
       "   // already loaded: just create the visualization\n",
       "   !function(LDAvis){\n",
       "       new LDAvis(\"#\" + \"ldavis_el133461401345653142562906469774\", ldavis_el133461401345653142562906469774_data);\n",
       "   }(LDAvis);\n",
       "}else if(typeof define === \"function\" && define.amd){\n",
       "   // require.js is available: use it to load d3/LDAvis\n",
       "   require.config({paths: {d3: \"https://cdnjs.cloudflare.com/ajax/libs/d3/3.5.5/d3.min\"}});\n",
       "   require([\"d3\"], function(d3){\n",
       "      window.d3 = d3;\n",
       "      LDAvis_load_lib(\"https://cdn.rawgit.com/bmabey/pyLDAvis/files/ldavis.v1.0.0.js\", function(){\n",
       "        new LDAvis(\"#\" + \"ldavis_el133461401345653142562906469774\", ldavis_el133461401345653142562906469774_data);\n",
       "      });\n",
       "    });\n",
       "}else{\n",
       "    // require.js not available: dynamically load d3 & LDAvis\n",
       "    LDAvis_load_lib(\"https://cdnjs.cloudflare.com/ajax/libs/d3/3.5.5/d3.min.js\", function(){\n",
       "         LDAvis_load_lib(\"https://cdn.rawgit.com/bmabey/pyLDAvis/files/ldavis.v1.0.0.js\", function(){\n",
       "                 new LDAvis(\"#\" + \"ldavis_el133461401345653142562906469774\", ldavis_el133461401345653142562906469774_data);\n",
       "            })\n",
       "         });\n",
       "}\n",
       "</script>"
      ],
      "text/plain": [
       "<IPython.core.display.HTML object>"
      ]
     },
     "execution_count": 45,
     "metadata": {},
     "output_type": "execute_result"
    }
   ],
   "source": [
    "widget_mallet.result"
   ]
  },
  {
   "cell_type": "code",
   "execution_count": null,
   "metadata": {},
   "outputs": [],
   "source": []
  }
 ],
 "metadata": {
  "kernelspec": {
   "display_name": "Python 3",
   "language": "python",
   "name": "python3"
  },
  "language_info": {
   "codemirror_mode": {
    "name": "ipython",
    "version": 3
   },
   "file_extension": ".py",
   "mimetype": "text/x-python",
   "name": "python",
   "nbconvert_exporter": "python",
   "pygments_lexer": "ipython3",
   "version": "3.6.7"
  }
 },
 "nbformat": 4,
 "nbformat_minor": 2
}
